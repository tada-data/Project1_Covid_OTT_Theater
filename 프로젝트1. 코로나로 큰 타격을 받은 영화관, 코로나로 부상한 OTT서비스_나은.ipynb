{
 "cells": [
  {
   "cell_type": "markdown",
   "id": "01f8285c",
   "metadata": {},
   "source": [
    "# 코로나로 큰 타격을 받은 영화관, 코로나로 부상한 OTT 서비스\n",
    "### - OTT서비스는 지속적인 고객들의 유치를 위하여 어떻게 해야할까?\n",
    "#### - OTT서비스의 이용률 변화와 OTT서비스 가입에 영향을 끼치는 요인\n",
    "\n",
    "2020년 2월 대한민국의 첫 코로나 확진자 발생으로 인하여 영화계는 큰 타격을 입었다고 한다. \n",
    "반대로 영화관을 가지 못하는 사람들은 집에서 사용하는 OTT서비스를 이용하여 영화를 관람하기 시작하였고\n",
    "OTT 서비스는 자체적인 프로그램을 내놓으면서 OTT서비스의 이용자는 점점 더 증가하였다.\n",
    "\n",
    "현재 2022년, 영화계는 다시 활기를 되찾아가고 있다.\n",
    "하지만 OTT서비스의 이용자는 크게 줄지 않고 있는데 그 이유는 무엇일까? \n",
    "\n",
    "앞으로 OTT서비스를 사람들이 지속적으로 이용할 수 있도록 사람들이 서비스를 이용할 때 중요하게 생각하는 특성이 무엇인지 알아보도록 하자. \n",
    "\n"
   ]
  },
  {
   "cell_type": "markdown",
   "id": "61e5d339",
   "metadata": {},
   "source": [
    "### 자주 쓰는 모듈 import"
   ]
  },
  {
   "cell_type": "code",
   "execution_count": 2,
   "id": "0247cf94",
   "metadata": {},
   "outputs": [],
   "source": [
    "import pandas as pd\n",
    "import seaborn as sns\n",
    "import matplotlib.pyplot as plt\n",
    "import numpy as np\n",
    "\n",
    "import matplotlib.font_manager as fm\n",
    "font_name = fm.FontProperties(fname = \"C:/Windows/Fonts/malgun.ttf\").get_name()\n",
    "plt.rc(\"font\", family= font_name)\n",
    "\n",
    "import matplotlib as mlp\n",
    "mlp.rcParams[\"axes.unicode_minus\"] = False\n",
    "\n",
    "import warnings\n",
    "warnings.filterwarnings(action='ignore')"
   ]
  },
  {
   "cell_type": "markdown",
   "id": "49a77f93",
   "metadata": {},
   "source": [
    "# 1. 코로나가 OTT서비스와 영화관이용에 끼친 영향"
   ]
  },
  {
   "cell_type": "markdown",
   "id": "8becab3c",
   "metadata": {},
   "source": [
    "## 1)  코로나 확진자 수 확인\n",
    "\n",
    "- https://kdx.kr/data/view/3415"
   ]
  },
  {
   "cell_type": "markdown",
   "id": "d07c0376",
   "metadata": {},
   "source": [
    "### (1) 일별 코로나 확진자 수"
   ]
  },
  {
   "cell_type": "code",
   "execution_count": 17,
   "id": "715c6c4b",
   "metadata": {},
   "outputs": [
    {
     "data": {
      "text/html": [
       "<div>\n",
       "<style scoped>\n",
       "    .dataframe tbody tr th:only-of-type {\n",
       "        vertical-align: middle;\n",
       "    }\n",
       "\n",
       "    .dataframe tbody tr th {\n",
       "        vertical-align: top;\n",
       "    }\n",
       "\n",
       "    .dataframe thead th {\n",
       "        text-align: right;\n",
       "    }\n",
       "</style>\n",
       "<table border=\"1\" class=\"dataframe\">\n",
       "  <thead>\n",
       "    <tr style=\"text-align: right;\">\n",
       "      <th></th>\n",
       "      <th>stateDt</th>\n",
       "      <th>decideCnt</th>\n",
       "      <th>date</th>\n",
       "    </tr>\n",
       "  </thead>\n",
       "  <tbody>\n",
       "    <tr>\n",
       "      <th>1</th>\n",
       "      <td>2020-02-02</td>\n",
       "      <td>2.0</td>\n",
       "      <td>2020-2</td>\n",
       "    </tr>\n",
       "    <tr>\n",
       "      <th>2</th>\n",
       "      <td>2020-02-03</td>\n",
       "      <td>15.0</td>\n",
       "      <td>2020-2</td>\n",
       "    </tr>\n",
       "    <tr>\n",
       "      <th>3</th>\n",
       "      <td>2020-02-04</td>\n",
       "      <td>15.0</td>\n",
       "      <td>2020-2</td>\n",
       "    </tr>\n",
       "    <tr>\n",
       "      <th>4</th>\n",
       "      <td>2020-02-05</td>\n",
       "      <td>19.0</td>\n",
       "      <td>2020-2</td>\n",
       "    </tr>\n",
       "    <tr>\n",
       "      <th>6</th>\n",
       "      <td>2020-02-06</td>\n",
       "      <td>23.0</td>\n",
       "      <td>2020-2</td>\n",
       "    </tr>\n",
       "    <tr>\n",
       "      <th>...</th>\n",
       "      <td>...</td>\n",
       "      <td>...</td>\n",
       "      <td>...</td>\n",
       "    </tr>\n",
       "    <tr>\n",
       "      <th>712</th>\n",
       "      <td>2021-12-27</td>\n",
       "      <td>611670.0</td>\n",
       "      <td>2021-12</td>\n",
       "    </tr>\n",
       "    <tr>\n",
       "      <th>713</th>\n",
       "      <td>2021-12-28</td>\n",
       "      <td>615532.0</td>\n",
       "      <td>2021-12</td>\n",
       "    </tr>\n",
       "    <tr>\n",
       "      <th>714</th>\n",
       "      <td>2021-12-29</td>\n",
       "      <td>620938.0</td>\n",
       "      <td>2021-12</td>\n",
       "    </tr>\n",
       "    <tr>\n",
       "      <th>715</th>\n",
       "      <td>2021-12-30</td>\n",
       "      <td>625967.0</td>\n",
       "      <td>2021-12</td>\n",
       "    </tr>\n",
       "    <tr>\n",
       "      <th>716</th>\n",
       "      <td>2021-12-31</td>\n",
       "      <td>630838.0</td>\n",
       "      <td>2021-12</td>\n",
       "    </tr>\n",
       "  </tbody>\n",
       "</table>\n",
       "<p>679 rows × 3 columns</p>\n",
       "</div>"
      ],
      "text/plain": [
       "       stateDt  decideCnt     date\n",
       "1   2020-02-02        2.0   2020-2\n",
       "2   2020-02-03       15.0   2020-2\n",
       "3   2020-02-04       15.0   2020-2\n",
       "4   2020-02-05       19.0   2020-2\n",
       "6   2020-02-06       23.0   2020-2\n",
       "..         ...        ...      ...\n",
       "712 2021-12-27   611670.0  2021-12\n",
       "713 2021-12-28   615532.0  2021-12\n",
       "714 2021-12-29   620938.0  2021-12\n",
       "715 2021-12-30   625967.0  2021-12\n",
       "716 2021-12-31   630838.0  2021-12\n",
       "\n",
       "[679 rows x 3 columns]"
      ]
     },
     "execution_count": 17,
     "metadata": {},
     "output_type": "execute_result"
    }
   ],
   "source": [
    "covid = pd.read_csv(\"data/Covid19InfState.csv\")\n",
    "covid_decide = covid[[\"stateDt\",\"decideCnt\"]]\n",
    "covid_decide[\"stateDt\"]= covid_decide[\"stateDt\"].apply(lambda x: pd.to_datetime(str(x), format='%Y%m%d'))\n",
    "\n",
    "date=[]\n",
    "for i in range(len(covid_decide)):\n",
    "    x = covid_decide[\"stateDt\"][i].year\n",
    "    y = covid_decide[\"stateDt\"][i].month\n",
    "    date.append(str(x)+\"-\"+str(y))\n",
    "    \n",
    "covid_decide[\"date\"] = date\n",
    "\n",
    "covid_decide_date = covid_decide.sort_values(by=\"stateDt\")\n",
    "covid_decide_date = covid_decide_date.iloc[1:]\n",
    "covid_decide_date = covid_decide_date.fillna(15.0)\n",
    "covid_decide_date = covid_decide_date.drop_duplicates(\"stateDt\")\n",
    "covid_decide_date = covid_decide_date.reset_index(drop=True)\n",
    "\n",
    "covid = [2]\n",
    "for i in range(len(covid_decide_date)-1):\n",
    "    x = covid_decide_date[\"decideCnt\"].iloc[i+1]-covid_decide_date[\"decideCnt\"].iloc[i]\n",
    "    covid.append(x)\n",
    "    \n",
    "covid_decide_date[\"covid\"] = covid\n",
    "\n",
    "day_covid = covid_decide_date[[\"stateDt\",\"covid\"]]\n",
    "\n",
    "day_covid.to_csv(\"data/일별확진자수.csv\", index=False)\n",
    "day_covid.head()"
   ]
  },
  {
   "cell_type": "markdown",
   "id": "6b23b332",
   "metadata": {},
   "source": [
    "### (2) 월별 코로나 확진자 수 "
   ]
  },
  {
   "cell_type": "code",
   "execution_count": 50,
   "id": "48785c4f",
   "metadata": {},
   "outputs": [
    {
     "data": {
      "text/html": [
       "<div>\n",
       "<style scoped>\n",
       "    .dataframe tbody tr th:only-of-type {\n",
       "        vertical-align: middle;\n",
       "    }\n",
       "\n",
       "    .dataframe tbody tr th {\n",
       "        vertical-align: top;\n",
       "    }\n",
       "\n",
       "    .dataframe thead th {\n",
       "        text-align: right;\n",
       "    }\n",
       "</style>\n",
       "<table border=\"1\" class=\"dataframe\">\n",
       "  <thead>\n",
       "    <tr style=\"text-align: right;\">\n",
       "      <th></th>\n",
       "      <th>date</th>\n",
       "      <th>covid</th>\n",
       "    </tr>\n",
       "  </thead>\n",
       "  <tbody>\n",
       "    <tr>\n",
       "      <th>3</th>\n",
       "      <td>2020-02-01</td>\n",
       "      <td>2931.0</td>\n",
       "    </tr>\n",
       "    <tr>\n",
       "      <th>4</th>\n",
       "      <td>2020-03-01</td>\n",
       "      <td>6855.0</td>\n",
       "    </tr>\n",
       "    <tr>\n",
       "      <th>5</th>\n",
       "      <td>2020-04-01</td>\n",
       "      <td>979.0</td>\n",
       "    </tr>\n",
       "    <tr>\n",
       "      <th>6</th>\n",
       "      <td>2020-05-01</td>\n",
       "      <td>703.0</td>\n",
       "    </tr>\n",
       "    <tr>\n",
       "      <th>7</th>\n",
       "      <td>2020-06-01</td>\n",
       "      <td>1332.0</td>\n",
       "    </tr>\n",
       "  </tbody>\n",
       "</table>\n",
       "</div>"
      ],
      "text/plain": [
       "        date   covid\n",
       "3 2020-02-01  2931.0\n",
       "4 2020-03-01  6855.0\n",
       "5 2020-04-01   979.0\n",
       "6 2020-05-01   703.0\n",
       "7 2020-06-01  1332.0"
      ]
     },
     "execution_count": 50,
     "metadata": {},
     "output_type": "execute_result"
    }
   ],
   "source": [
    "# 위의 covid_decide_date 계속 사용\n",
    "month_covid = covid_decide_date[[\"date\",\"covid\"]]\n",
    "month_covid = month_covid.groupby(\"date\").sum(\"covid\").reset_index()\n",
    "month_covid[\"date\"] = pd.to_datetime(month_covid[\"date\"])\n",
    "month_covid = month_covid.sort_values(by=\"date\")\n",
    "month_covid.to_csv(\"data/월별확진자수.csv\", index=False)\n",
    "month_covid.head()"
   ]
  },
  {
   "cell_type": "markdown",
   "id": "872e7ccb",
   "metadata": {},
   "source": [
    "## 2) 코로나 시기의 OTT서비스 이용자 수 변화"
   ]
  },
  {
   "cell_type": "markdown",
   "id": "a3a57c1a",
   "metadata": {},
   "source": [
    "### (1) 설문조사 결과 : 2017년부터 2021년까지의 OTT서비스 관련 애플리케이션을 자주 이용하는 사람들의 비율 변화 확인"
   ]
  },
  {
   "cell_type": "code",
   "execution_count": 4,
   "id": "81f0607c",
   "metadata": {},
   "outputs": [
    {
     "data": {
      "text/plain": [
       "Text(0, 0.5, '평균 OTT서비스 앱 이용 비율')"
      ]
     },
     "execution_count": 4,
     "metadata": {},
     "output_type": "execute_result"
    },
    {
     "data": {
      "image/png": "[encoded data removed]",
      "text/plain": [
       "<Figure size 432x288 with 1 Axes>"
      ]
     },
     "metadata": {
      "needs_background": "light"
     },
     "output_type": "display_data"
    }
   ],
   "source": [
    "application = pd.read_csv(\"data/자주사용하는앱.csv\", header=[0,1], index_col=[0,1])\n",
    "\n",
    "data = {\"2017\" : application[\"2017\"][\"방송/동영상(OTT 서비스 등) (%)\"], \"2018\": application[\"2018\"][\"방송/동영상(OTT 서비스 등) (%)\"],\n",
    "        \"2019\": application[\"2019\"][\"방송/동영상(OTT 서비스 등) (%)\"],\"2020\": application[\"2020\"][\"방송/동영상(OTT 서비스 등) (%)\"],\n",
    "        \"2021\": application[\"2021\"][\"방송/동영상(OTT 서비스 등) (%)\"]}\n",
    "OTT_application = pd.DataFrame(data=data)\n",
    "\n",
    "OTT_application_age = OTT_application.loc[\"연령\"]\n",
    "OTT_application_age\n",
    "\n",
    "OTT_application_age = OTT_application_age.astype(float)\n",
    "OTT_application_age.loc[\"mean\"]=OTT_application_age.mean()\n",
    "\n",
    "plt.plot(OTT_application_age.loc[\"mean\"], color = \"black\", linestyle = \"--\", marker = \"o\")\n",
    "# 다운로드 받은 앱 중 OTT관련 앱을 자주 사용하는 사람들의 비율의 평균은 계속 증가하고 있다.\n",
    "\n",
    "plt.xlabel(\"년도\")\n",
    "plt.ylabel(\"평균 OTT서비스 앱 이용 비율\")"
   ]
  },
  {
   "cell_type": "markdown",
   "id": "5c44cd31",
   "metadata": {},
   "source": [
    "### (2) 설문조사 결과 : 2020년과 2021년의 최근 3개월 OTT서비스 이용경험 비율 변화 확인"
   ]
  },
  {
   "cell_type": "code",
   "execution_count": 43,
   "id": "abf82306",
   "metadata": {},
   "outputs": [
    {
     "data": {
      "image/png": "[encoded data removed]",
      "text/plain": [
       "<Figure size 720x504 with 1 Axes>"
      ]
     },
     "metadata": {
      "needs_background": "light"
     },
     "output_type": "display_data"
    }
   ],
   "source": [
    "user = pd.read_excel(\"data/최근3개월OTT서비스이용경험.xlsx\", header=[0,1], index_col=[0,1])\n",
    "\n",
    "userincrease = pd.DataFrame({\"2021년OTT서비스이용자증가율\":round((user[\"2021\"][\"이용경험 있음 (%)\"]-user[\"2020\"][\"이용경험 있음 (%)\"])/user[\"2020\"][\"이용경험 있음 (%)\"] *100,2),\n",
    "                            \"2020년OTT서비스이용자증가율\":round((user[\"2020\"][\"이용경험 있음 (%)\"]-user[\"2019\"][\"이용경험 있음 (%)\"])/user[\"2019\"][\"이용경험 있음 (%)\"] *100,2)})\n",
    "#userincrease.columns = [\"이용자증가율\"]\n",
    "userincrease\n",
    "\n",
    "unserincrease_graph = userincrease.droplevel(level=0)\n",
    "ax = unserincrease_graph.plot(kind = \"barh\", color = {\"2020년OTT서비스이용자증가율\":\"black\", \"2021년OTT서비스이용자증가율\":\"silver\"},\n",
    "                              figsize = (10,7), xlabel = \"구분\", title =\"작년대비 OTT서비스 이용자 증가율\")\n",
    "ax.invert_yaxis()\n",
    "\n"
   ]
  },
  {
   "cell_type": "markdown",
   "id": "2938e493",
   "metadata": {},
   "source": [
    "### (3) 설문조사 결과 : 가장 많이 이용하는 OTT서비스_영화서비스 이용률 변화 확인"
   ]
  },
  {
   "cell_type": "code",
   "execution_count": 20,
   "id": "0a104e67",
   "metadata": {
    "scrolled": true
   },
   "outputs": [
    {
     "data": {
      "text/html": [
       "<div>\n",
       "<style scoped>\n",
       "    .dataframe tbody tr th:only-of-type {\n",
       "        vertical-align: middle;\n",
       "    }\n",
       "\n",
       "    .dataframe tbody tr th {\n",
       "        vertical-align: top;\n",
       "    }\n",
       "\n",
       "    .dataframe thead th {\n",
       "        text-align: right;\n",
       "    }\n",
       "</style>\n",
       "<table border=\"1\" class=\"dataframe\">\n",
       "  <thead>\n",
       "    <tr style=\"text-align: right;\">\n",
       "      <th>장르</th>\n",
       "      <th>OTT영화시청증감률</th>\n",
       "      <th>OTT예능/오락시청증감률</th>\n",
       "    </tr>\n",
       "  </thead>\n",
       "  <tbody>\n",
       "    <tr>\n",
       "      <th>전체</th>\n",
       "      <td>72</td>\n",
       "      <td>10</td>\n",
       "    </tr>\n",
       "    <tr>\n",
       "      <th>남</th>\n",
       "      <td>56</td>\n",
       "      <td>4</td>\n",
       "    </tr>\n",
       "    <tr>\n",
       "      <th>여</th>\n",
       "      <td>93</td>\n",
       "      <td>16</td>\n",
       "    </tr>\n",
       "    <tr>\n",
       "      <th>만10대미만</th>\n",
       "      <td>153</td>\n",
       "      <td>-16</td>\n",
       "    </tr>\n",
       "    <tr>\n",
       "      <th>만10-19세</th>\n",
       "      <td>93</td>\n",
       "      <td>11</td>\n",
       "    </tr>\n",
       "  </tbody>\n",
       "</table>\n",
       "</div>"
      ],
      "text/plain": [
       "장르       OTT영화시청증감률  OTT예능/오락시청증감률\n",
       "전체               72             10\n",
       "남                56              4\n",
       "여                93             16\n",
       "만10대미만          153            -16\n",
       "만10-19세          93             11"
      ]
     },
     "execution_count": 20,
     "metadata": {},
     "output_type": "execute_result"
    }
   ],
   "source": [
    "OTT = pd.read_excel(\"data/가장많이이용하는OTT서비스_20-21.xlsx\", header=[0,1], index_col=[0,1])\n",
    "OTT.columns =[[\"2020\",\"2020\",\"2020\",\"2020\",\"2020\",\"2020\",\"2020\",\"2020\",\"2020\",\"2021\",\"2021\",\"2021\",\"2021\",\"2021\",\"2021\",\"2021\",\"2021\",\"2021\",\"2021\"], [\"사례수\",\"국내TV\", \"해외TV\", \"실시간TV\", \"영화\", \"OTT자체제작\", \"예능/오락(개인방송포함)\", \"음악\", \"기타\",\"사례수\", \"영화\", \"예능/오락(개인방송포함)\", \"드라마\",\"교양/다큐\",\"교육/학습\",\"애니메이션\",\"스포츠\",\"뉴스\",\"기타\"]]\n",
    "\n",
    "OTT_movie = pd.DataFrame([OTT[\"2020\"][\"영화\"], OTT[\"2021\"][\"영화\"]], index=[\"2020\",\"2021\"]).T\n",
    "OTT_movie[\"OTT영화시청증감률\"]=(OTT_movie[\"2021\"]-OTT_movie[\"2020\"])/OTT_movie[\"2020\"]*100\n",
    "\n",
    "\n",
    "# 추가로 2020년과 2021년의 또다른 공통 컬럼인 예능/오락부분도 추가해서 비교하겠다.\n",
    "\n",
    "OTT_예능오락 = pd.DataFrame([OTT[\"2020\"][\"예능/오락(개인방송포함)\"], OTT[\"2021\"][\"예능/오락(개인방송포함)\"]], index=[\"2020\",\"2021\"]).T\n",
    "OTT_예능오락[\"OTT예능/오락시청증감률\"]=(OTT_예능오락[\"2021\"]-OTT_예능오락[\"2020\"])/OTT_예능오락[\"2020\"]*100\n",
    "\n",
    "\n",
    "# OTT시청의 증감률을 확인하고 우리가 알아보고자 하는 OTT에서 영화를 보는 시청 증감률이 차이를 비교하기 위해 dataframe을 합쳐준다\n",
    "\n",
    "change = pd.concat([OTT_movie[\"OTT영화시청증감률\"], OTT_예능오락[\"OTT예능/오락시청증감률\"]], axis=1)\n",
    "change = change.astype(int)\n",
    "change = change.droplevel(level=0, axis=0)\n",
    "change.columns.names = [\"장르\"]\n",
    "change = change.rename(index = {\"소계\" : \"전체\"})\n",
    "change.head()"
   ]
  },
  {
   "cell_type": "code",
   "execution_count": 22,
   "id": "0ef6648a",
   "metadata": {},
   "outputs": [
    {
     "data": {
      "text/plain": [
       "<matplotlib.lines.Line2D at 0x2176f472070>"
      ]
     },
     "execution_count": 22,
     "metadata": {},
     "output_type": "execute_result"
    },
    {
     "data": {
      "image/png": "[encoded data removed]",
      "text/plain": [
       "<Figure size 720x504 with 1 Axes>"
      ]
     },
     "metadata": {
      "needs_background": "light"
     },
     "output_type": "display_data"
    }
   ],
   "source": [
    "ax = change.plot(kind = \"bar\", color = {\"OTT영화시청증감률\":\"black\", \"OTT예능/오락시청증감률\":\"silver\"},\n",
    "                 figsize = (10,7), width = 0.75, xlabel = \"구분\", ylabel=\"2020년대비 2021년 장르별 시청증감률\")\n",
    "plt.axhline(y=0, color = \"black\", linewidth = 0.4)"
   ]
  },
  {
   "cell_type": "markdown",
   "id": "55dc46f8",
   "metadata": {},
   "source": [
    "## 3) 코로나 시기의 영화관 이용자 수 변화"
   ]
  },
  {
   "cell_type": "markdown",
   "id": "2d679438",
   "metadata": {},
   "source": [
    "### (1) 2018년부터 2022년까지의 영화관 이용자 수 변화 확인"
   ]
  },
  {
   "cell_type": "markdown",
   "id": "777680c9",
   "metadata": {},
   "source": [
    "### (1)-1 영화관 관객수 변화 확인"
   ]
  },
  {
   "cell_type": "code",
   "execution_count": 25,
   "id": "f8399ed9",
   "metadata": {},
   "outputs": [
    {
     "data": {
      "text/plain": [
       "Text(0, 0.5, '관객수')"
      ]
     },
     "execution_count": 25,
     "metadata": {},
     "output_type": "execute_result"
    },
    {
     "data": {
      "image/png": "[encoded data removed]",
      "text/plain": [
       "<Figure size 432x288 with 1 Axes>"
      ]
     },
     "metadata": {
      "needs_background": "light"
     },
     "output_type": "display_data"
    },
    {
     "data": {
      "image/png": "[encoded data removed]",
      "text/plain": [
       "<Figure size 432x288 with 1 Axes>"
      ]
     },
     "metadata": {
      "needs_background": "light"
     },
     "output_type": "display_data"
    }
   ],
   "source": [
    "movietheater = pd.read_excel(\"data/영화관객수및매출액_2018-2022.xlsx\", header=[0,1], index_col=[0])\n",
    "theater = pd.DataFrame(movietheater[\"전체\"][\"관객수\"])\n",
    "theater_graph = theater.iloc[:-1]\n",
    "theater_graph_2021 = theater.iloc[:-2]\n",
    "\n",
    "plt.figure(figsize=(6,4)) \n",
    "colors = [\"silver\",'silver','black','black','black']\n",
    "plt.bar(theater_graph.index, theater_graph[\"관객수\"], color=colors, width = 0.7)\n",
    "plt.ylabel('관객수')\n",
    "\n",
    "# 현재 사용하고 있는 자료들의 값이 2021년이 최대이기 때문에 2021년까지만 확인\n",
    "plt.figure(figsize=(6,4)) \n",
    "colors = [\"silver\",'silver','black','black']\n",
    "x = [\"2018\", \"2019\", \"2020\", \"2021\"]\n",
    "plt.bar(x, theater_graph_2021[\"관객수\"], color=colors, width = 0.6)\n",
    "plt.ylabel('관객수')"
   ]
  },
  {
   "cell_type": "markdown",
   "id": "a03f5eff",
   "metadata": {},
   "source": [
    "### (1)-2 설문조사 결과 : 여가시간에 영화관을 이용하는 사람들 비율 변화 확인"
   ]
  },
  {
   "cell_type": "code",
   "execution_count": 42,
   "id": "80126a22",
   "metadata": {},
   "outputs": [
    {
     "data": {
      "image/png": "[encoded data removed]",
      "text/plain": [
       "<Figure size 720x504 with 1 Axes>"
      ]
     },
     "metadata": {
      "needs_background": "light"
     },
     "output_type": "display_data"
    }
   ],
   "source": [
    "sparemovie= pd.read_csv(\"data/1년동안가장많이이용한여가공간1순위_영화관비율.csv\", encoding=\"euc-kr\", header=[0,1], index_col=[0,1])\n",
    "\n",
    "# 위의 OTT 시청자 구분 맞춰주기(전체, 성별, 연령별)\n",
    "# 코로나로 인한 영화 관람객 수의 변화를 극단적으로 살펴보기 위하여 2019년과 2021년을 비교\n",
    "\n",
    "sparetheater = sparemovie.loc[[\"전체\",\"성별\",\"연령별\"],[\"2019\",\"2021\"]]\n",
    "\n",
    "sparetheater = sparetheater.astype(float)\n",
    "sparetheater = sparetheater.astype(int)\n",
    "sparetheater = sparetheater.droplevel(level=1, axis=1)\n",
    "sparetheater = sparetheater.droplevel(level=0, axis=0)\n",
    "sparetheater.columns.names = [\"연도\"]\n",
    "\n",
    "ax = sparetheater.plot.barh(color = {\"2019\":\"silver\", \"2021\":\"black\"}, figsize = (10,7),\n",
    "                      xlabel = \"구분\", title = \"1년동안 가장 많이 이용한 여가공간으로 영화관을 뽑은 사람들 비율\")\n",
    "ax.invert_yaxis()"
   ]
  },
  {
   "cell_type": "markdown",
   "id": "9715e7f7",
   "metadata": {},
   "source": [
    "### (2) 코로나 확진자 수와 영화관 관객수의 상관관계 확인"
   ]
  },
  {
   "cell_type": "markdown",
   "id": "eb9bf6bf",
   "metadata": {},
   "source": [
    "### (2)-1 월별 코로나 확진자 수와 월별 영화관 관객수의 상관 관계확인"
   ]
  },
  {
   "cell_type": "code",
   "execution_count": 46,
   "id": "cf9a0dff",
   "metadata": {
    "scrolled": true
   },
   "outputs": [
    {
     "data": {
      "text/html": [
       "<div>\n",
       "<style scoped>\n",
       "    .dataframe tbody tr th:only-of-type {\n",
       "        vertical-align: middle;\n",
       "    }\n",
       "\n",
       "    .dataframe tbody tr th {\n",
       "        vertical-align: top;\n",
       "    }\n",
       "\n",
       "    .dataframe thead th {\n",
       "        text-align: right;\n",
       "    }\n",
       "</style>\n",
       "<table border=\"1\" class=\"dataframe\">\n",
       "  <thead>\n",
       "    <tr style=\"text-align: right;\">\n",
       "      <th></th>\n",
       "      <th>년월</th>\n",
       "      <th>관람객수</th>\n",
       "    </tr>\n",
       "  </thead>\n",
       "  <tbody>\n",
       "    <tr>\n",
       "      <th>0</th>\n",
       "      <td>2020-01</td>\n",
       "      <td>16843695</td>\n",
       "    </tr>\n",
       "    <tr>\n",
       "      <th>1</th>\n",
       "      <td>2020-02</td>\n",
       "      <td>7372370</td>\n",
       "    </tr>\n",
       "    <tr>\n",
       "      <th>2</th>\n",
       "      <td>2020-03</td>\n",
       "      <td>1834722</td>\n",
       "    </tr>\n",
       "    <tr>\n",
       "      <th>3</th>\n",
       "      <td>2020-04</td>\n",
       "      <td>972572</td>\n",
       "    </tr>\n",
       "    <tr>\n",
       "      <th>4</th>\n",
       "      <td>2020-05</td>\n",
       "      <td>1526236</td>\n",
       "    </tr>\n",
       "  </tbody>\n",
       "</table>\n",
       "</div>"
      ],
      "text/plain": [
       "        년월      관람객수\n",
       "0  2020-01  16843695\n",
       "1  2020-02   7372370\n",
       "2  2020-03   1834722\n",
       "3  2020-04    972572\n",
       "4  2020-05   1526236"
      ]
     },
     "execution_count": 46,
     "metadata": {},
     "output_type": "execute_result"
    }
   ],
   "source": [
    "# 코로나 시기의 월별 영화관 관람객 수 확인\n",
    "\n",
    "twenty = pd.read_excel(\"data/2020영화관람객수.xlsx\", skiprows = 4, header=[0,1])\n",
    "twenty = twenty.iloc[:, [0,-1]].droplevel(level=1, axis=1)\n",
    "twenty.columns = [\"년월\",\"관람객수\"]\n",
    "twenty = twenty.iloc[0:12]\n",
    "twenty[\"년월\"]=pd.to_datetime(twenty[\"년월\"])\n",
    "twenty[\"년월\"] = twenty[\"년월\"].dt.strftime(\"%Y-%m\")\n",
    "\n",
    "twoone = pd.read_excel(\"data/2021영화관람객수.xlsx\", skiprows = 4, header=[0,1])\n",
    "twoone = twoone.iloc[:, [0,-1]].droplevel(level=1, axis=1)\n",
    "twoone.columns = [\"년월\",\"관람객수\"]\n",
    "twoone = twoone.iloc[0:12]\n",
    "twoone[\"년월\"]=pd.to_datetime(twoone[\"년월\"])\n",
    "twoone[\"년월\"] = twoone[\"년월\"].dt.strftime(\"%Y-%m\")\n",
    "\n",
    "movie = pd.concat([twenty, twoone])\n",
    "movie.head()"
   ]
  },
  {
   "cell_type": "markdown",
   "id": "7e2484a2",
   "metadata": {},
   "source": [
    "### (2)-2 코로나 확진자 수와 영화 관람객 수 상관관계 확인"
   ]
  },
  {
   "cell_type": "code",
   "execution_count": 47,
   "id": "5242dfc7",
   "metadata": {
    "scrolled": true
   },
   "outputs": [
    {
     "data": {
      "text/html": [
       "<div>\n",
       "<style scoped>\n",
       "    .dataframe tbody tr th:only-of-type {\n",
       "        vertical-align: middle;\n",
       "    }\n",
       "\n",
       "    .dataframe tbody tr th {\n",
       "        vertical-align: top;\n",
       "    }\n",
       "\n",
       "    .dataframe thead th {\n",
       "        text-align: right;\n",
       "    }\n",
       "</style>\n",
       "<table border=\"1\" class=\"dataframe\">\n",
       "  <thead>\n",
       "    <tr style=\"text-align: right;\">\n",
       "      <th></th>\n",
       "      <th>코로나.관람객</th>\n",
       "    </tr>\n",
       "  </thead>\n",
       "  <tbody>\n",
       "    <tr>\n",
       "      <th>상관계수</th>\n",
       "      <td>0.512176</td>\n",
       "    </tr>\n",
       "    <tr>\n",
       "      <th>p-value</th>\n",
       "      <td>0.012470</td>\n",
       "    </tr>\n",
       "  </tbody>\n",
       "</table>\n",
       "</div>"
      ],
      "text/plain": [
       "          코로나.관람객\n",
       "상관계수     0.512176\n",
       "p-value  0.012470"
      ]
     },
     "execution_count": 47,
     "metadata": {},
     "output_type": "execute_result"
    }
   ],
   "source": [
    "# 월별 코로나 확진자 수 관람객 수와 형식 맞춰주기\n",
    "corona_month = pd.read_csv(\"data/월별확진자수.csv\")\n",
    "corona_month[\"date\"] = pd.to_datetime(corona_month[\"date\"])\n",
    "corona_month[\"date\"] = corona_month[\"date\"].dt.strftime(\"%Y-%m\")\n",
    "corona_month.head()\n",
    "\n",
    "# 월별 코로나 확진자 수와 월별 관람객 수 한 dataframe으로 만들기\n",
    "\n",
    "corona_movie_m = pd.merge(movie, corona_month, how = \"inner\", left_on=\"년월\", right_on=\"date\" )\n",
    "corona_movie_m = corona_movie_m[[\"년월\",\"관람객수\",\"covid\"]]\n",
    "corona_movie_m.to_csv(\"data/월별_영화_코로나.csv\", index=False)\n",
    "\n",
    "# 월별 코로나 확진자 수와 영화 관람객 수 상관관계 확인\n",
    "\n",
    "import scipy.stats as stats\n",
    "\n",
    "correlation = stats.pearsonr(corona_movie_m[\"관람객수\"], corona_movie_m[\"covid\"])\n",
    "pd.DataFrame(correlation, index=[\"상관계수\", \"p-value\"], columns=[\"코로나.관람객\"])"
   ]
  },
  {
   "cell_type": "markdown",
   "id": "ccad78cc",
   "metadata": {},
   "source": [
    "뉴스나 다른 매체의 이야기와 달리 코로나 확진자가 늘수록 영화 관람객 수가 는다고 표현할 수 있는 0.5121의 양의 상관관계로 나타남\n",
    "\n",
    "이유를 생각해보자\n",
    "\n",
    "- 코로나가 시작된지 1년이 지난 2021년부터는 사람들이 코로나에 상관없이 영화관을 가지 않았을까\n",
    "- 이번 달의 코로나 확진자 수가 다음 달의 영화 관람객 수에 영향을 미쳤을 것이다"
   ]
  },
  {
   "cell_type": "markdown",
   "id": "4cb0bc07",
   "metadata": {},
   "source": [
    "#### (2)-2-1 코로나가 시작된지 1년이 지난 2021년부터는 사람들이 코로나에 상관 없이 영화관을 이용하였는가"
   ]
  },
  {
   "cell_type": "code",
   "execution_count": 48,
   "id": "e78ede6a",
   "metadata": {},
   "outputs": [
    {
     "data": {
      "text/html": [
       "<div>\n",
       "<style scoped>\n",
       "    .dataframe tbody tr th:only-of-type {\n",
       "        vertical-align: middle;\n",
       "    }\n",
       "\n",
       "    .dataframe tbody tr th {\n",
       "        vertical-align: top;\n",
       "    }\n",
       "\n",
       "    .dataframe thead th {\n",
       "        text-align: right;\n",
       "    }\n",
       "</style>\n",
       "<table border=\"1\" class=\"dataframe\">\n",
       "  <thead>\n",
       "    <tr style=\"text-align: right;\">\n",
       "      <th></th>\n",
       "      <th>코로나.관람객20</th>\n",
       "    </tr>\n",
       "  </thead>\n",
       "  <tbody>\n",
       "    <tr>\n",
       "      <th>상관계수</th>\n",
       "      <td>-0.244801</td>\n",
       "    </tr>\n",
       "    <tr>\n",
       "      <th>p-value</th>\n",
       "      <td>0.468147</td>\n",
       "    </tr>\n",
       "  </tbody>\n",
       "</table>\n",
       "</div>"
      ],
      "text/plain": [
       "         코로나.관람객20\n",
       "상관계수     -0.244801\n",
       "p-value   0.468147"
      ]
     },
     "metadata": {},
     "output_type": "display_data"
    },
    {
     "data": {
      "text/html": [
       "<div>\n",
       "<style scoped>\n",
       "    .dataframe tbody tr th:only-of-type {\n",
       "        vertical-align: middle;\n",
       "    }\n",
       "\n",
       "    .dataframe tbody tr th {\n",
       "        vertical-align: top;\n",
       "    }\n",
       "\n",
       "    .dataframe thead th {\n",
       "        text-align: right;\n",
       "    }\n",
       "</style>\n",
       "<table border=\"1\" class=\"dataframe\">\n",
       "  <thead>\n",
       "    <tr style=\"text-align: right;\">\n",
       "      <th></th>\n",
       "      <th>코로나.관람객21</th>\n",
       "    </tr>\n",
       "  </thead>\n",
       "  <tbody>\n",
       "    <tr>\n",
       "      <th>상관계수</th>\n",
       "      <td>0.747431</td>\n",
       "    </tr>\n",
       "    <tr>\n",
       "      <th>p-value</th>\n",
       "      <td>0.005200</td>\n",
       "    </tr>\n",
       "  </tbody>\n",
       "</table>\n",
       "</div>"
      ],
      "text/plain": [
       "         코로나.관람객21\n",
       "상관계수      0.747431\n",
       "p-value   0.005200"
      ]
     },
     "metadata": {},
     "output_type": "display_data"
    }
   ],
   "source": [
    "corona_movie20 = corona_movie_m.iloc[:11]\n",
    "corona_movie21 = corona_movie_m.iloc[11:]\n",
    "\n",
    "import scipy.stats as stats\n",
    "\n",
    "corr20 = stats.pearsonr(corona_movie20[\"관람객수\"], corona_movie20[\"covid\"])\n",
    "cor20 = pd.DataFrame(corr20, index=[\"상관계수\", \"p-value\"], columns=[\"코로나.관람객20\"])\n",
    "\n",
    "corr21 = stats.pearsonr(corona_movie21[\"관람객수\"], corona_movie21[\"covid\"])\n",
    "cor21 = pd.DataFrame(corr21, index=[\"상관계수\", \"p-value\"], columns=[\"코로나.관람객21\"])\n",
    "\n",
    "display(cor20)\n",
    "display(cor21)"
   ]
  },
  {
   "cell_type": "markdown",
   "id": "63e5fc90",
   "metadata": {},
   "source": [
    "#### (2)-2-2 이번달의 코로나 확진자 수가 다음달의 영화 관람객 수에 영향을 미쳤는가"
   ]
  },
  {
   "cell_type": "code",
   "execution_count": 49,
   "id": "824cd1b1",
   "metadata": {},
   "outputs": [
    {
     "data": {
      "text/html": [
       "<div>\n",
       "<style scoped>\n",
       "    .dataframe tbody tr th:only-of-type {\n",
       "        vertical-align: middle;\n",
       "    }\n",
       "\n",
       "    .dataframe tbody tr th {\n",
       "        vertical-align: top;\n",
       "    }\n",
       "\n",
       "    .dataframe thead th {\n",
       "        text-align: right;\n",
       "    }\n",
       "</style>\n",
       "<table border=\"1\" class=\"dataframe\">\n",
       "  <thead>\n",
       "    <tr style=\"text-align: right;\">\n",
       "      <th></th>\n",
       "      <th>코로나.관람객.다음달</th>\n",
       "    </tr>\n",
       "  </thead>\n",
       "  <tbody>\n",
       "    <tr>\n",
       "      <th>상관계수</th>\n",
       "      <td>0.514647</td>\n",
       "    </tr>\n",
       "    <tr>\n",
       "      <th>p-value</th>\n",
       "      <td>0.014257</td>\n",
       "    </tr>\n",
       "  </tbody>\n",
       "</table>\n",
       "</div>"
      ],
      "text/plain": [
       "         코로나.관람객.다음달\n",
       "상관계수        0.514647\n",
       "p-value     0.014257"
      ]
     },
     "execution_count": 49,
     "metadata": {},
     "output_type": "execute_result"
    }
   ],
   "source": [
    "# 위에서 사용한 corona_movie_m 사용\n",
    "corona_movie_m.head()\n",
    "\n",
    "first_corona = corona_movie_m.iloc[0:-1].reset_index()\n",
    "next_movie = corona_movie_m.iloc[1:].reset_index()\n",
    "\n",
    "import scipy.stats as stats\n",
    "\n",
    "corr = stats.pearsonr(next_movie[\"관람객수\"], first_corona[\"covid\"])\n",
    "pd.DataFrame(corr, index=[\"상관계수\", \"p-value\"], columns=[\"코로나.관람객.다음달\"])"
   ]
  },
  {
   "cell_type": "code",
   "execution_count": 52,
   "id": "f9fc740e",
   "metadata": {},
   "outputs": [
    {
     "data": {
      "text/html": [
       "<div>\n",
       "<style scoped>\n",
       "    .dataframe tbody tr th:only-of-type {\n",
       "        vertical-align: middle;\n",
       "    }\n",
       "\n",
       "    .dataframe tbody tr th {\n",
       "        vertical-align: top;\n",
       "    }\n",
       "\n",
       "    .dataframe thead th {\n",
       "        text-align: right;\n",
       "    }\n",
       "</style>\n",
       "<table border=\"1\" class=\"dataframe\">\n",
       "  <thead>\n",
       "    <tr style=\"text-align: right;\">\n",
       "      <th></th>\n",
       "      <th>코로나.관람객.다음달20</th>\n",
       "    </tr>\n",
       "  </thead>\n",
       "  <tbody>\n",
       "    <tr>\n",
       "      <th>상관계수</th>\n",
       "      <td>-0.376218</td>\n",
       "    </tr>\n",
       "    <tr>\n",
       "      <th>p-value</th>\n",
       "      <td>0.254136</td>\n",
       "    </tr>\n",
       "  </tbody>\n",
       "</table>\n",
       "</div>"
      ],
      "text/plain": [
       "         코로나.관람객.다음달20\n",
       "상관계수         -0.376218\n",
       "p-value       0.254136"
      ]
     },
     "metadata": {},
     "output_type": "display_data"
    },
    {
     "data": {
      "text/html": [
       "<div>\n",
       "<style scoped>\n",
       "    .dataframe tbody tr th:only-of-type {\n",
       "        vertical-align: middle;\n",
       "    }\n",
       "\n",
       "    .dataframe tbody tr th {\n",
       "        vertical-align: top;\n",
       "    }\n",
       "\n",
       "    .dataframe thead th {\n",
       "        text-align: right;\n",
       "    }\n",
       "</style>\n",
       "<table border=\"1\" class=\"dataframe\">\n",
       "  <thead>\n",
       "    <tr style=\"text-align: right;\">\n",
       "      <th></th>\n",
       "      <th>코로나.관람객.다음달21</th>\n",
       "    </tr>\n",
       "  </thead>\n",
       "  <tbody>\n",
       "    <tr>\n",
       "      <th>상관계수</th>\n",
       "      <td>0.689357</td>\n",
       "    </tr>\n",
       "    <tr>\n",
       "      <th>p-value</th>\n",
       "      <td>0.018941</td>\n",
       "    </tr>\n",
       "  </tbody>\n",
       "</table>\n",
       "</div>"
      ],
      "text/plain": [
       "         코로나.관람객.다음달21\n",
       "상관계수          0.689357\n",
       "p-value       0.018941"
      ]
     },
     "metadata": {},
     "output_type": "display_data"
    }
   ],
   "source": [
    "covid_first = first_corona[[\"년월\",\"covid\"]]\n",
    "movie_next = next_movie[[\"년월\",\"관람객수\"]]\n",
    "\n",
    "next_corona_movie = pd.concat([covid_first, movie_next], axis=1)\n",
    "\n",
    "next_corona_movie20 = next_corona_movie.iloc[:11]\n",
    "next_corona_movie21 = next_corona_movie.iloc[11:]\n",
    "\n",
    "import scipy.stats as stats\n",
    "\n",
    "corr20_next = stats.pearsonr(next_corona_movie20[\"관람객수\"], next_corona_movie20[\"covid\"])\n",
    "cor20_next = pd.DataFrame(corr20_next, index=[\"상관계수\", \"p-value\"], columns=[\"코로나.관람객.다음달20\"])\n",
    "\n",
    "corr21_next = stats.pearsonr(next_corona_movie21[\"관람객수\"], next_corona_movie21[\"covid\"])\n",
    "cor21_next = pd.DataFrame(corr21_next, index=[\"상관계수\", \"p-value\"], columns=[\"코로나.관람객.다음달21\"])\n",
    "\n",
    "display(cor20_next)\n",
    "display(cor21_next)"
   ]
  },
  {
   "cell_type": "markdown",
   "id": "b7345338",
   "metadata": {},
   "source": [
    "2020년은 코로나확진자 수가 증가할 수록 영화관 관객수가 줄어든 음의 상관관계를 보였지만 54%의 신뢰성을 보였다.\n",
    "반대로 2021년은 99.5%의 신뢰도로 코로나 확진자수가 증가함에도 불구하고 영화관 관객수가 증가하는 경향을 보였다.\n",
    "따라서 코로나 확진자 수가 영화관 관객수에 큰 영향을 미치지 못했다고 볼 수 있다.\n",
    "\n",
    "추가로 음의 상관관계의 신뢰성 확인을 위해 2020년에 지난달의 코로나 확진자 수가 영화관 관람에 영향을 미쳤는지 확인해 보았을 때는 75%의 신뢰도로 코로나 확진자 수가 증가할 때 영화관 관객 수가 감소하는 경향을 음의 상관관계를 보여 조금 더 유의한 수준으로 코로나 확진자 수가 영화관람객수에 영향을 주었다고 볼 수 있다.\n",
    "\n",
    "그렇다면 일별 코로나 확진자 수와 일별 영화관 관객수의 상관관계는 어떠할까"
   ]
  },
  {
   "cell_type": "markdown",
   "id": "fc8c729d",
   "metadata": {},
   "source": [
    "### (2)-3 일별 코로나 확진자 수와 일별 영화관 관객 수의 상관관계 확인"
   ]
  },
  {
   "cell_type": "code",
   "execution_count": 20,
   "id": "49074253",
   "metadata": {},
   "outputs": [],
   "source": [
    "# 2020년 2월부터 2021년 12월까지의 일별 코로나 확진자수\n",
    "day_covid = pd.read_csv(\"data/일별확진자수.csv\")\n",
    "day_covid = day_covid.iloc[:int(day_covid[day_covid[\"stateDt\"]==\"2021-12-31\"].index.values)+1]"
   ]
  },
  {
   "cell_type": "code",
   "execution_count": 23,
   "id": "4ce5a110",
   "metadata": {},
   "outputs": [],
   "source": [
    "# 2020년 2월부터 2021년 12월까지 일별 영화관 관객수\n",
    "\n",
    "#20년 \n",
    "movie_day20 = pd.read_excel(\"data/일별영화관객수_20.02.xlsx\")\n",
    "for i in range(3,13):\n",
    "    if i < 10:\n",
    "        a = str(0)+str(i)\n",
    "    else:\n",
    "        a = str(i)\n",
    "    name = \"data/일별영화관객수_20.\"+ a +\".xlsx\"\n",
    "    add = pd.read_excel(name)\n",
    "    movie_day20 = pd.concat([movie_day20, add])\n",
    "    \n",
    "# 21년\n",
    "movie_day21 = pd.read_excel(\"data/일별영화관객수_21.01.xlsx\")\n",
    "for i in range(2,13):\n",
    "    if i < 10:\n",
    "        a = str(0)+str(i)\n",
    "    else:\n",
    "        a = str(i)\n",
    "    name = \"data/일별영화관객수_21.\"+ a +\".xlsx\"\n",
    "    add = pd.read_excel(name)\n",
    "    movie_day21 = pd.concat([movie_day21, add])\n",
    "    \n",
    "movie_day = pd.concat([movie_day20, movie_day21])\n",
    "movie_day.columns = [\"stateDt\", \"관객수\"]"
   ]
  },
  {
   "cell_type": "code",
   "execution_count": 26,
   "id": "93e8e0ce",
   "metadata": {},
   "outputs": [],
   "source": [
    "movie_day[\"stateDt\"] = movie_day[\"stateDt\"].astype(\"str\")"
   ]
  },
  {
   "cell_type": "code",
   "execution_count": 31,
   "id": "88dde9bc",
   "metadata": {},
   "outputs": [],
   "source": [
    "covid_movie_day = pd.merge(movie_day, day_covid, how=\"inner\", on=\"stateDt\")\n",
    "covid_movie_day.to_csv(\"data/일별_영화_코로나.csv\", index=False)"
   ]
  },
  {
   "cell_type": "code",
   "execution_count": 32,
   "id": "4c4dd407",
   "metadata": {},
   "outputs": [
    {
     "data": {
      "text/html": [
       "<div>\n",
       "<style scoped>\n",
       "    .dataframe tbody tr th:only-of-type {\n",
       "        vertical-align: middle;\n",
       "    }\n",
       "\n",
       "    .dataframe tbody tr th {\n",
       "        vertical-align: top;\n",
       "    }\n",
       "\n",
       "    .dataframe thead th {\n",
       "        text-align: right;\n",
       "    }\n",
       "</style>\n",
       "<table border=\"1\" class=\"dataframe\">\n",
       "  <thead>\n",
       "    <tr style=\"text-align: right;\">\n",
       "      <th></th>\n",
       "      <th>코로나.관람객</th>\n",
       "    </tr>\n",
       "  </thead>\n",
       "  <tbody>\n",
       "    <tr>\n",
       "      <th>상관계수</th>\n",
       "      <td>2.431171e-01</td>\n",
       "    </tr>\n",
       "    <tr>\n",
       "      <th>p-value</th>\n",
       "      <td>1.363204e-10</td>\n",
       "    </tr>\n",
       "  </tbody>\n",
       "</table>\n",
       "</div>"
      ],
      "text/plain": [
       "              코로나.관람객\n",
       "상관계수     2.431171e-01\n",
       "p-value  1.363204e-10"
      ]
     },
     "execution_count": 32,
     "metadata": {},
     "output_type": "execute_result"
    }
   ],
   "source": [
    "import scipy.stats as stats\n",
    "\n",
    "corr = stats.pearsonr(covid_movie_day[\"관객수\"], covid_movie_day[\"covid\"])\n",
    "pd.DataFrame(corr, index=[\"상관계수\", \"p-value\"], columns=[\"코로나.관람객\"])\n",
    "# 상관관계가 없음"
   ]
  },
  {
   "cell_type": "markdown",
   "id": "26c6a6c0",
   "metadata": {},
   "source": [
    "#### (2)-3-1 코로나가 시작된지 1년이 지난 2021년부터는 사람들이 코로나에 상관 없이 영화관을 이용하였는가"
   ]
  },
  {
   "cell_type": "code",
   "execution_count": 41,
   "id": "aab9118e",
   "metadata": {},
   "outputs": [
    {
     "data": {
      "text/html": [
       "<div>\n",
       "<style scoped>\n",
       "    .dataframe tbody tr th:only-of-type {\n",
       "        vertical-align: middle;\n",
       "    }\n",
       "\n",
       "    .dataframe tbody tr th {\n",
       "        vertical-align: top;\n",
       "    }\n",
       "\n",
       "    .dataframe thead th {\n",
       "        text-align: right;\n",
       "    }\n",
       "</style>\n",
       "<table border=\"1\" class=\"dataframe\">\n",
       "  <thead>\n",
       "    <tr style=\"text-align: right;\">\n",
       "      <th></th>\n",
       "      <th>코로나.관람객</th>\n",
       "    </tr>\n",
       "  </thead>\n",
       "  <tbody>\n",
       "    <tr>\n",
       "      <th>상관계수</th>\n",
       "      <td>-0.208406</td>\n",
       "    </tr>\n",
       "    <tr>\n",
       "      <th>p-value</th>\n",
       "      <td>0.000125</td>\n",
       "    </tr>\n",
       "  </tbody>\n",
       "</table>\n",
       "</div>"
      ],
      "text/plain": [
       "          코로나.관람객\n",
       "상관계수    -0.208406\n",
       "p-value  0.000125"
      ]
     },
     "metadata": {},
     "output_type": "display_data"
    },
    {
     "data": {
      "text/html": [
       "<div>\n",
       "<style scoped>\n",
       "    .dataframe tbody tr th:only-of-type {\n",
       "        vertical-align: middle;\n",
       "    }\n",
       "\n",
       "    .dataframe tbody tr th {\n",
       "        vertical-align: top;\n",
       "    }\n",
       "\n",
       "    .dataframe thead th {\n",
       "        text-align: right;\n",
       "    }\n",
       "</style>\n",
       "<table border=\"1\" class=\"dataframe\">\n",
       "  <thead>\n",
       "    <tr style=\"text-align: right;\">\n",
       "      <th></th>\n",
       "      <th>코로나.관람객</th>\n",
       "    </tr>\n",
       "  </thead>\n",
       "  <tbody>\n",
       "    <tr>\n",
       "      <th>상관계수</th>\n",
       "      <td>3.031012e-01</td>\n",
       "    </tr>\n",
       "    <tr>\n",
       "      <th>p-value</th>\n",
       "      <td>9.185106e-09</td>\n",
       "    </tr>\n",
       "  </tbody>\n",
       "</table>\n",
       "</div>"
      ],
      "text/plain": [
       "              코로나.관람객\n",
       "상관계수     3.031012e-01\n",
       "p-value  9.185106e-09"
      ]
     },
     "metadata": {},
     "output_type": "display_data"
    }
   ],
   "source": [
    "covid_movie_d20 = covid_movie_day.iloc[:int(covid_movie_day[covid_movie_day[\"stateDt\"]==\"2020-12-31\"].index.values)+1]\n",
    "covid_movie_d21 = covid_movie_day.iloc[int(covid_movie_day[covid_movie_day[\"stateDt\"]==\"2020-12-31\"].index.values)+1:]\n",
    "\n",
    "corr20 = stats.pearsonr(covid_movie_d20[\"관객수\"], covid_movie_d20[\"covid\"])\n",
    "cor20 = pd.DataFrame(corr20, index=[\"상관계수\", \"p-value\"], columns=[\"코로나.관람객\"])\n",
    "\n",
    "corr21 = stats.pearsonr(covid_movie_d21[\"관객수\"], covid_movie_d21[\"covid\"])\n",
    "cor21 = pd.DataFrame(corr21, index=[\"상관계수\", \"p-value\"], columns=[\"코로나.관람객\"])\n",
    "\n",
    "display(cor20)\n",
    "display(cor21)"
   ]
  },
  {
   "cell_type": "markdown",
   "id": "f8e6c846",
   "metadata": {},
   "source": [
    "#### (2)-3-2 어제의 코로나 확진자 수가 오늘의 영화 관람객 수에 영향을 미쳤는가"
   ]
  },
  {
   "cell_type": "code",
   "execution_count": 33,
   "id": "fb906158",
   "metadata": {},
   "outputs": [
    {
     "data": {
      "text/html": [
       "<div>\n",
       "<style scoped>\n",
       "    .dataframe tbody tr th:only-of-type {\n",
       "        vertical-align: middle;\n",
       "    }\n",
       "\n",
       "    .dataframe tbody tr th {\n",
       "        vertical-align: top;\n",
       "    }\n",
       "\n",
       "    .dataframe thead th {\n",
       "        text-align: right;\n",
       "    }\n",
       "</style>\n",
       "<table border=\"1\" class=\"dataframe\">\n",
       "  <thead>\n",
       "    <tr style=\"text-align: right;\">\n",
       "      <th></th>\n",
       "      <th>코로나.관람객.다음날</th>\n",
       "    </tr>\n",
       "  </thead>\n",
       "  <tbody>\n",
       "    <tr>\n",
       "      <th>상관계수</th>\n",
       "      <td>2.389584e-01</td>\n",
       "    </tr>\n",
       "    <tr>\n",
       "      <th>p-value</th>\n",
       "      <td>2.935572e-10</td>\n",
       "    </tr>\n",
       "  </tbody>\n",
       "</table>\n",
       "</div>"
      ],
      "text/plain": [
       "          코로나.관람객.다음날\n",
       "상관계수     2.389584e-01\n",
       "p-value  2.935572e-10"
      ]
     },
     "execution_count": 33,
     "metadata": {},
     "output_type": "execute_result"
    }
   ],
   "source": [
    "# 코로나 확진자 수가 다음날 영화관객수에 영향을 미쳤다\n",
    "covid_first_day = covid_movie_day.iloc[:-1]\n",
    "movie_next_day = covid_movie_day.iloc[1:]\n",
    "\n",
    "import scipy.stats as stats\n",
    "\n",
    "corr = stats.pearsonr(movie_next_day[\"관객수\"], covid_first_day[\"covid\"])\n",
    "pd.DataFrame(corr, index=[\"상관계수\", \"p-value\"], columns=[\"코로나.관람객.다음날\"])\n",
    "# 상관관계가 없음"
   ]
  },
  {
   "cell_type": "code",
   "execution_count": 58,
   "id": "fa4d9623",
   "metadata": {},
   "outputs": [
    {
     "data": {
      "text/html": [
       "<div>\n",
       "<style scoped>\n",
       "    .dataframe tbody tr th:only-of-type {\n",
       "        vertical-align: middle;\n",
       "    }\n",
       "\n",
       "    .dataframe tbody tr th {\n",
       "        vertical-align: top;\n",
       "    }\n",
       "\n",
       "    .dataframe thead th {\n",
       "        text-align: right;\n",
       "    }\n",
       "</style>\n",
       "<table border=\"1\" class=\"dataframe\">\n",
       "  <thead>\n",
       "    <tr style=\"text-align: right;\">\n",
       "      <th></th>\n",
       "      <th>코로나.관람객.다음날20</th>\n",
       "    </tr>\n",
       "  </thead>\n",
       "  <tbody>\n",
       "    <tr>\n",
       "      <th>상관계수</th>\n",
       "      <td>-0.223516</td>\n",
       "    </tr>\n",
       "    <tr>\n",
       "      <th>p-value</th>\n",
       "      <td>0.000038</td>\n",
       "    </tr>\n",
       "  </tbody>\n",
       "</table>\n",
       "</div>"
      ],
      "text/plain": [
       "         코로나.관람객.다음날20\n",
       "상관계수         -0.223516\n",
       "p-value       0.000038"
      ]
     },
     "metadata": {},
     "output_type": "display_data"
    },
    {
     "data": {
      "text/html": [
       "<div>\n",
       "<style scoped>\n",
       "    .dataframe tbody tr th:only-of-type {\n",
       "        vertical-align: middle;\n",
       "    }\n",
       "\n",
       "    .dataframe tbody tr th {\n",
       "        vertical-align: top;\n",
       "    }\n",
       "\n",
       "    .dataframe thead th {\n",
       "        text-align: right;\n",
       "    }\n",
       "</style>\n",
       "<table border=\"1\" class=\"dataframe\">\n",
       "  <thead>\n",
       "    <tr style=\"text-align: right;\">\n",
       "      <th></th>\n",
       "      <th>코로나.관람객.다음날21</th>\n",
       "    </tr>\n",
       "  </thead>\n",
       "  <tbody>\n",
       "    <tr>\n",
       "      <th>상관계수</th>\n",
       "      <td>2.946166e-01</td>\n",
       "    </tr>\n",
       "    <tr>\n",
       "      <th>p-value</th>\n",
       "      <td>2.569275e-08</td>\n",
       "    </tr>\n",
       "  </tbody>\n",
       "</table>\n",
       "</div>"
      ],
      "text/plain": [
       "         코로나.관람객.다음날21\n",
       "상관계수      2.946166e-01\n",
       "p-value   2.569275e-08"
      ]
     },
     "metadata": {},
     "output_type": "display_data"
    }
   ],
   "source": [
    "covid_first_covid = covid_first_day[[\"stateDt\",\"covid\"]].reset_index(drop=True)\n",
    "movie_next_movie = movie_next_day[[\"stateDt\",\"관객수\"]].reset_index(drop=True)\n",
    "next_corona_movie_d = pd.concat([covid_first_covid, movie_next_movie], axis=1)\n",
    "\n",
    "next_corona_movie_d20 = next_corona_movie_d.iloc[:int(covid_movie_day[covid_movie_day[\"stateDt\"]==\"2020-12-31\"].index.values)+1]\n",
    "next_corona_movie_d21 = next_corona_movie_d.iloc[int(covid_movie_day[covid_movie_day[\"stateDt\"]==\"2020-12-31\"].index.values)+1:]\n",
    "\n",
    "\n",
    "next_corr20 = stats.pearsonr(next_corona_movie_d20[\"관객수\"], next_corona_movie_d20[\"covid\"])\n",
    "next_cor20 = pd.DataFrame(next_corr20, index=[\"상관계수\", \"p-value\"], columns=[\"코로나.관람객.다음날20\"])\n",
    "\n",
    "next_corr21 = stats.pearsonr(next_corona_movie_d21[\"관객수\"], next_corona_movie_d21[\"covid\"])\n",
    "next_cor21 = pd.DataFrame(next_corr21, index=[\"상관계수\", \"p-value\"], columns=[\"코로나.관람객.다음날21\"])\n",
    "\n",
    "display(next_cor20)\n",
    "display(next_cor21)"
   ]
  },
  {
   "cell_type": "markdown",
   "id": "48c87bdb",
   "metadata": {},
   "source": [
    "2020년은 99%이상의 유의수준에서 코로나확진자 수가 증가할 수록 영화관 관객수가 줄어든 음의 상관관계를 보였다.\n",
    "반대로 2021년은 99% 이상의 유의수준에서 코로나 확진자수와 코로나 관람객 사이에 영향이 없다는 것을 볼 수 있었다.\n",
    "\n",
    "즉, 2020년은 코로나 확진자 수가 영화관 관람객 수에 영향을 주었지만 2021년은 영향을 주지 못한 것을 알 수 있었다.\n",
    "그 원인을 사람들의 코로나에 대한 인식에서 찾아보고자 한다. "
   ]
  },
  {
   "cell_type": "markdown",
   "id": "cb9876d8",
   "metadata": {},
   "source": [
    "## 4) 2020년과 2021년의 코로나에 대한 인식 확인\n",
    "\n",
    "- 해당 기간의 뉴스를 크롤링(네이버: 코로나19로 검색)\n",
    "    - 관련도 순으로 검색했을 때 80개 뉴스가 넘어가면 관련도가 매우 낮아짐(80개까지만 확인하겠다)\n",
    "- WordCloud를 이용"
   ]
  },
  {
   "cell_type": "code",
   "execution_count": 53,
   "id": "b1c3e29d",
   "metadata": {},
   "outputs": [],
   "source": [
    "# 필요 모듈 import\n",
    "\n",
    "# 크롤링\n",
    "from urllib.request import urlopen\n",
    "from bs4 import BeautifulSoup\n",
    "\n",
    "# 텍스트 마이닝 및 wordcloud\n",
    "from konlpy.tag import Okt  \n",
    "import nltk\n",
    "from wordcloud import WordCloud"
   ]
  },
  {
   "cell_type": "markdown",
   "id": "31428e86",
   "metadata": {},
   "source": [
    "### (1) 비교할 달 확인"
   ]
  },
  {
   "cell_type": "code",
   "execution_count": 52,
   "id": "24732732",
   "metadata": {
    "scrolled": true
   },
   "outputs": [
    {
     "data": {
      "text/html": [
       "<div>\n",
       "<style scoped>\n",
       "    .dataframe tbody tr th:only-of-type {\n",
       "        vertical-align: middle;\n",
       "    }\n",
       "\n",
       "    .dataframe tbody tr th {\n",
       "        vertical-align: top;\n",
       "    }\n",
       "\n",
       "    .dataframe thead th {\n",
       "        text-align: right;\n",
       "    }\n",
       "</style>\n",
       "<table border=\"1\" class=\"dataframe\">\n",
       "  <thead>\n",
       "    <tr style=\"text-align: right;\">\n",
       "      <th></th>\n",
       "      <th>date</th>\n",
       "      <th>covid</th>\n",
       "    </tr>\n",
       "  </thead>\n",
       "  <tbody>\n",
       "    <tr>\n",
       "      <th>3</th>\n",
       "      <td>2020-05-01</td>\n",
       "      <td>703.0</td>\n",
       "    </tr>\n",
       "    <tr>\n",
       "      <th>2</th>\n",
       "      <td>2020-04-01</td>\n",
       "      <td>979.0</td>\n",
       "    </tr>\n",
       "    <tr>\n",
       "      <th>4</th>\n",
       "      <td>2020-06-01</td>\n",
       "      <td>1332.0</td>\n",
       "    </tr>\n",
       "    <tr>\n",
       "      <th>5</th>\n",
       "      <td>2020-07-01</td>\n",
       "      <td>1505.0</td>\n",
       "    </tr>\n",
       "    <tr>\n",
       "      <th>8</th>\n",
       "      <td>2020-10-01</td>\n",
       "      <td>2699.0</td>\n",
       "    </tr>\n",
       "    <tr>\n",
       "      <th>0</th>\n",
       "      <td>2020-02-01</td>\n",
       "      <td>2931.0</td>\n",
       "    </tr>\n",
       "    <tr>\n",
       "      <th>7</th>\n",
       "      <td>2020-09-01</td>\n",
       "      <td>3865.0</td>\n",
       "    </tr>\n",
       "    <tr>\n",
       "      <th>6</th>\n",
       "      <td>2020-08-01</td>\n",
       "      <td>5642.0</td>\n",
       "    </tr>\n",
       "    <tr>\n",
       "      <th>1</th>\n",
       "      <td>2020-03-01</td>\n",
       "      <td>6855.0</td>\n",
       "    </tr>\n",
       "    <tr>\n",
       "      <th>9</th>\n",
       "      <td>2020-11-01</td>\n",
       "      <td>7690.0</td>\n",
       "    </tr>\n",
       "    <tr>\n",
       "      <th>12</th>\n",
       "      <td>2021-02-01</td>\n",
       "      <td>12281.0</td>\n",
       "    </tr>\n",
       "    <tr>\n",
       "      <th>13</th>\n",
       "      <td>2021-03-01</td>\n",
       "      <td>13412.0</td>\n",
       "    </tr>\n",
       "    <tr>\n",
       "      <th>16</th>\n",
       "      <td>2021-06-01</td>\n",
       "      <td>16621.0</td>\n",
       "    </tr>\n",
       "    <tr>\n",
       "      <th>11</th>\n",
       "      <td>2021-01-01</td>\n",
       "      <td>16655.0</td>\n",
       "    </tr>\n",
       "    <tr>\n",
       "      <th>15</th>\n",
       "      <td>2021-05-01</td>\n",
       "      <td>18333.0</td>\n",
       "    </tr>\n",
       "    <tr>\n",
       "      <th>14</th>\n",
       "      <td>2021-04-01</td>\n",
       "      <td>18919.0</td>\n",
       "    </tr>\n",
       "    <tr>\n",
       "      <th>10</th>\n",
       "      <td>2020-12-01</td>\n",
       "      <td>26539.0</td>\n",
       "    </tr>\n",
       "    <tr>\n",
       "      <th>17</th>\n",
       "      <td>2021-07-01</td>\n",
       "      <td>41384.0</td>\n",
       "    </tr>\n",
       "    <tr>\n",
       "      <th>18</th>\n",
       "      <td>2021-08-01</td>\n",
       "      <td>53076.0</td>\n",
       "    </tr>\n",
       "    <tr>\n",
       "      <th>20</th>\n",
       "      <td>2021-10-01</td>\n",
       "      <td>53411.0</td>\n",
       "    </tr>\n",
       "    <tr>\n",
       "      <th>19</th>\n",
       "      <td>2021-09-01</td>\n",
       "      <td>59868.0</td>\n",
       "    </tr>\n",
       "    <tr>\n",
       "      <th>21</th>\n",
       "      <td>2021-11-01</td>\n",
       "      <td>82530.0</td>\n",
       "    </tr>\n",
       "    <tr>\n",
       "      <th>22</th>\n",
       "      <td>2021-12-01</td>\n",
       "      <td>183608.0</td>\n",
       "    </tr>\n",
       "    <tr>\n",
       "      <th>23</th>\n",
       "      <td>2022-01-01</td>\n",
       "      <td>214871.0</td>\n",
       "    </tr>\n",
       "    <tr>\n",
       "      <th>28</th>\n",
       "      <td>2022-06-01</td>\n",
       "      <td>255703.0</td>\n",
       "    </tr>\n",
       "    <tr>\n",
       "      <th>32</th>\n",
       "      <td>2022-10-01</td>\n",
       "      <td>788208.0</td>\n",
       "    </tr>\n",
       "    <tr>\n",
       "      <th>34</th>\n",
       "      <td>2022-12-01</td>\n",
       "      <td>826838.0</td>\n",
       "    </tr>\n",
       "    <tr>\n",
       "      <th>27</th>\n",
       "      <td>2022-05-01</td>\n",
       "      <td>865760.0</td>\n",
       "    </tr>\n",
       "    <tr>\n",
       "      <th>29</th>\n",
       "      <td>2022-07-01</td>\n",
       "      <td>1416709.0</td>\n",
       "    </tr>\n",
       "    <tr>\n",
       "      <th>31</th>\n",
       "      <td>2022-09-01</td>\n",
       "      <td>1522703.0</td>\n",
       "    </tr>\n",
       "    <tr>\n",
       "      <th>33</th>\n",
       "      <td>2022-11-01</td>\n",
       "      <td>1541425.0</td>\n",
       "    </tr>\n",
       "    <tr>\n",
       "      <th>24</th>\n",
       "      <td>2022-02-01</td>\n",
       "      <td>2288747.0</td>\n",
       "    </tr>\n",
       "    <tr>\n",
       "      <th>30</th>\n",
       "      <td>2022-08-01</td>\n",
       "      <td>3470348.0</td>\n",
       "    </tr>\n",
       "    <tr>\n",
       "      <th>26</th>\n",
       "      <td>2022-04-01</td>\n",
       "      <td>4142247.0</td>\n",
       "    </tr>\n",
       "    <tr>\n",
       "      <th>25</th>\n",
       "      <td>2022-03-01</td>\n",
       "      <td>9961175.0</td>\n",
       "    </tr>\n",
       "  </tbody>\n",
       "</table>\n",
       "</div>"
      ],
      "text/plain": [
       "          date      covid\n",
       "3   2020-05-01      703.0\n",
       "2   2020-04-01      979.0\n",
       "4   2020-06-01     1332.0\n",
       "5   2020-07-01     1505.0\n",
       "8   2020-10-01     2699.0\n",
       "0   2020-02-01     2931.0\n",
       "7   2020-09-01     3865.0\n",
       "6   2020-08-01     5642.0\n",
       "1   2020-03-01     6855.0\n",
       "9   2020-11-01     7690.0\n",
       "12  2021-02-01    12281.0\n",
       "13  2021-03-01    13412.0\n",
       "16  2021-06-01    16621.0\n",
       "11  2021-01-01    16655.0\n",
       "15  2021-05-01    18333.0\n",
       "14  2021-04-01    18919.0\n",
       "10  2020-12-01    26539.0\n",
       "17  2021-07-01    41384.0\n",
       "18  2021-08-01    53076.0\n",
       "20  2021-10-01    53411.0\n",
       "19  2021-09-01    59868.0\n",
       "21  2021-11-01    82530.0\n",
       "22  2021-12-01   183608.0\n",
       "23  2022-01-01   214871.0\n",
       "28  2022-06-01   255703.0\n",
       "32  2022-10-01   788208.0\n",
       "34  2022-12-01   826838.0\n",
       "27  2022-05-01   865760.0\n",
       "29  2022-07-01  1416709.0\n",
       "31  2022-09-01  1522703.0\n",
       "33  2022-11-01  1541425.0\n",
       "24  2022-02-01  2288747.0\n",
       "30  2022-08-01  3470348.0\n",
       "26  2022-04-01  4142247.0\n",
       "25  2022-03-01  9961175.0"
      ]
     },
     "execution_count": 52,
     "metadata": {},
     "output_type": "execute_result"
    }
   ],
   "source": [
    "month_covid = pd.read_csv(\"data/월별확진자수.csv\")\n",
    "month_covid.sort_values(by=\"covid\")\n",
    "# 코로나 확진자 수가 비슷한 달인 20년 12월과 21년 4월을 비교해보자"
   ]
  },
  {
   "cell_type": "markdown",
   "id": "aaf50d68",
   "metadata": {},
   "source": [
    "### (1)-1 20년 12월과 21년 4월의 코로나 확진자 수와 관람객 비교"
   ]
  },
  {
   "cell_type": "code",
   "execution_count": 3,
   "id": "60605c94",
   "metadata": {},
   "outputs": [
    {
     "data": {
      "text/html": [
       "<div>\n",
       "<style scoped>\n",
       "    .dataframe tbody tr th:only-of-type {\n",
       "        vertical-align: middle;\n",
       "    }\n",
       "\n",
       "    .dataframe tbody tr th {\n",
       "        vertical-align: top;\n",
       "    }\n",
       "\n",
       "    .dataframe thead th {\n",
       "        text-align: right;\n",
       "    }\n",
       "</style>\n",
       "<table border=\"1\" class=\"dataframe\">\n",
       "  <thead>\n",
       "    <tr style=\"text-align: right;\">\n",
       "      <th></th>\n",
       "      <th>년월</th>\n",
       "      <th>구분</th>\n",
       "      <th>명(코로나*25)</th>\n",
       "    </tr>\n",
       "  </thead>\n",
       "  <tbody>\n",
       "    <tr>\n",
       "      <th>0</th>\n",
       "      <td>2020-12</td>\n",
       "      <td>covid</td>\n",
       "      <td>663475.0</td>\n",
       "    </tr>\n",
       "    <tr>\n",
       "      <th>1</th>\n",
       "      <td>2020-12</td>\n",
       "      <td>관람객수</td>\n",
       "      <td>1438873.0</td>\n",
       "    </tr>\n",
       "    <tr>\n",
       "      <th>2</th>\n",
       "      <td>2021-04</td>\n",
       "      <td>covid</td>\n",
       "      <td>472975.0</td>\n",
       "    </tr>\n",
       "    <tr>\n",
       "      <th>3</th>\n",
       "      <td>2021-04</td>\n",
       "      <td>관람객수</td>\n",
       "      <td>2562285.0</td>\n",
       "    </tr>\n",
       "  </tbody>\n",
       "</table>\n",
       "</div>"
      ],
      "text/plain": [
       "        년월     구분  명(코로나*25)\n",
       "0  2020-12  covid   663475.0\n",
       "1  2020-12   관람객수  1438873.0\n",
       "2  2021-04  covid   472975.0\n",
       "3  2021-04   관람객수  2562285.0"
      ]
     },
     "execution_count": 3,
     "metadata": {},
     "output_type": "execute_result"
    },
    {
     "data": {
      "image/png": "[encoded data removed]",
      "text/plain": [
       "<Figure size 432x288 with 1 Axes>"
      ]
     },
     "metadata": {
      "needs_background": "light"
     },
     "output_type": "display_data"
    }
   ],
   "source": [
    "# 상관관계를 확인 했을 때 저장해둔 파일 사용\n",
    "month_covid_movie = pd.read_csv(\"data/월별_영화_코로나.csv\")\n",
    "graph = month_covid_movie[month_covid_movie[\"년월\"].isin([\"2020-12\",\"2021-04\"])]\n",
    "\n",
    "graph[\"covid\"] = graph[\"covid\"]*25\n",
    "melt_graph = pd.melt(graph, id_vars=[\"년월\"], value_vars=[\"covid\",\"관람객수\"]).sort_values(by=\"년월\").reset_index(drop=True)\n",
    "melt_graph.columns = [\"년월\",\"구분\",\"명(코로나*25)\"]\n",
    "sns.barplot(\"년월\",\"명(코로나*25)\",data=melt_graph, hue=\"구분\", palette=[\"silver\",\"black\"])\n",
    "melt_graph"
   ]
  },
  {
   "cell_type": "markdown",
   "id": "b1e97bdf",
   "metadata": {},
   "source": [
    "2020년 12월과 2021년 4월은 어느정도 코로나 확진자 수가 크게 차이나지 않지만 반대로 영화관 관람객 수는 굉장히 차이가 많이 나는 것을 확인할 수 있다."
   ]
  },
  {
   "cell_type": "markdown",
   "id": "9236a3c1",
   "metadata": {},
   "source": [
    "### (2) 2020년 12월 코로나19에 대한 뉴스 헤드라인"
   ]
  },
  {
   "cell_type": "code",
   "execution_count": 55,
   "id": "28fc116c",
   "metadata": {
    "collapsed": true
   },
   "outputs": [
    {
     "data": {
      "text/plain": [
       "[('코로나', 76),\n",
       " ('극복', 10),\n",
       " ('위기', 9),\n",
       " ('치료', 8),\n",
       " ('센터', 7),\n",
       " ('시대', 7),\n",
       " ('백신', 5),\n",
       " ('나눔', 5),\n",
       " ('방역', 5),\n",
       " ('발표', 4),\n",
       " ('사회', 4),\n",
       " ('시장', 4),\n",
       " ('계층', 4),\n",
       " ('지원', 4),\n",
       " ('청소년', 4),\n",
       " ('한국', 3),\n",
       " ('공유', 3),\n",
       " ('공단', 3),\n",
       " ('청년', 3),\n",
       " ('생활', 3),\n",
       " ('상황', 3),\n",
       " ('상생', 3),\n",
       " ('경영', 3),\n",
       " ('바이오', 3),\n",
       " ('개발', 3),\n",
       " ('환자', 3),\n",
       " ('비대', 3),\n",
       " ('교육', 3),\n",
       " ('공급', 3),\n",
       " ('여파', 3),\n",
       " ('취약', 3),\n",
       " ('대응', 3),\n",
       " ('의료', 3),\n",
       " ('충남', 3),\n",
       " ('산업', 3),\n",
       " ('시간', 3),\n",
       " ('긴급', 3),\n",
       " ('돈', 3),\n",
       " ('분양', 3),\n",
       " ('글로벌', 3),\n",
       " ('학술', 2),\n",
       " ('대회', 2),\n",
       " ('최신', 2),\n",
       " ('최대', 2),\n",
       " ('제공', 2),\n",
       " ('그룹', 2),\n",
       " ('제약', 2),\n",
       " ('혈장', 2),\n",
       " ('기부', 2),\n",
       " ('팬데믹', 2),\n",
       " ('가치', 2),\n",
       " ('선도', 2),\n",
       " ('재난', 2),\n",
       " ('온라인', 2),\n",
       " ('시상식', 2),\n",
       " ('코리아', 2),\n",
       " ('소외', 2),\n",
       " ('체결', 2),\n",
       " ('올해', 2),\n",
       " ('대상', 2),\n",
       " ('가이던스', 2),\n",
       " ('영업', 2),\n",
       " ('진료', 2),\n",
       " ('아동', 2),\n",
       " ('예스', 2),\n",
       " ('포스트', 2),\n",
       " ('판매량', 2),\n",
       " ('급증', 2),\n",
       " ('관심', 2),\n",
       " ('상승', 2),\n",
       " ('주방', 2),\n",
       " ('프로젝트', 2),\n",
       " ('필수', 2),\n",
       " ('금천구', 2),\n",
       " ('시설', 2),\n",
       " ('관리', 2),\n",
       " ('누리', 2),\n",
       " ('교회', 2),\n",
       " ('희망이', 2),\n",
       " ('시스템', 2),\n",
       " ('중국', 2),\n",
       " ('문화', 2),\n",
       " ('사랑', 2),\n",
       " ('이상', 2),\n",
       " ('토론회', 2),\n",
       " ('개최', 2),\n",
       " ('운송', 2),\n",
       " ('서울시', 2),\n",
       " ('확산', 2),\n",
       " ('아파트', 2),\n",
       " ('단지', 2),\n",
       " ('심리', 2),\n",
       " ('솔루션', 2),\n",
       " ('사태', 2),\n",
       " ('증가', 2),\n",
       " ('세계', 2),\n",
       " ('린지', 2),\n",
       " ('보조', 2),\n",
       " ('기기', 2),\n",
       " ('성황리', 2)]"
      ]
     },
     "execution_count": 55,
     "metadata": {},
     "output_type": "execute_result"
    }
   ],
   "source": [
    "## 크롤링\n",
    "\n",
    "news20 = []\n",
    "list = [\"https://search.naver.com/search.naver?where=news&query=%EC%BD%94%EB%A1%9C%EB%82%9819&sm=tab_opt&sort=0&photo=4&field=0&pd=3&ds=2020.12.01&de=2020.12.31&docid=&related=0&mynews=0&office_type=0&office_section_code=0&news_office_checked=&nso=so%3Ar%2Cp%3Afrom20201201to20201231&is_sug_officeid=0\",\n",
    "\"https://search.naver.com/search.naver?where=news&sm=tab_pge&query=%EC%BD%94%EB%A1%9C%EB%82%9819&sort=0&photo=4&field=0&pd=3&ds=2020.12.01&de=2020.12.31&cluster_rank=10&mynews=0&office_type=0&office_section_code=0&news_office_checked=&nso=so:r,p:from20201201to20201231,a:all&start=11\",\n",
    "\"https://search.naver.com/search.naver?where=news&sm=tab_pge&query=%EC%BD%94%EB%A1%9C%EB%82%9819&sort=0&photo=4&field=0&pd=3&ds=2020.12.01&de=2020.12.31&cluster_rank=20&mynews=0&office_type=0&office_section_code=0&news_office_checked=&nso=so:r,p:from20201201to20201231,a:all&start=21\",\n",
    "\"https://search.naver.com/search.naver?where=news&sm=tab_pge&query=%EC%BD%94%EB%A1%9C%EB%82%9819&sort=0&photo=4&field=0&pd=3&ds=2020.12.01&de=2020.12.31&cluster_rank=30&mynews=0&office_type=0&office_section_code=0&news_office_checked=&nso=so:r,p:from20201201to20201231,a:all&start=31\",\n",
    "\"https://search.naver.com/search.naver?where=news&sm=tab_pge&query=%EC%BD%94%EB%A1%9C%EB%82%9819&sort=0&photo=4&field=0&pd=3&ds=2020.12.01&de=2020.12.31&cluster_rank=40&mynews=0&office_type=0&office_section_code=0&news_office_checked=&nso=so:r,p:from20201201to20201231,a:all&start=41\",\n",
    "\"https://search.naver.com/search.naver?where=news&sm=tab_pge&query=%EC%BD%94%EB%A1%9C%EB%82%9819&sort=0&photo=4&field=0&pd=3&ds=2020.12.01&de=2020.12.31&cluster_rank=50&mynews=0&office_type=0&office_section_code=0&news_office_checked=&nso=so:r,p:from20201201to20201231,a:all&start=51\",\n",
    "\"https://search.naver.com/search.naver?where=news&sm=tab_pge&query=%EC%BD%94%EB%A1%9C%EB%82%9819&sort=0&photo=4&field=0&pd=3&ds=2020.12.01&de=2020.12.31&cluster_rank=60&mynews=0&office_type=0&office_section_code=0&news_office_checked=&nso=so:r,p:from20201201to20201231,a:all&start=61\",\n",
    "\"https://search.naver.com/search.naver?where=news&sm=tab_pge&query=%EC%BD%94%EB%A1%9C%EB%82%9819&sort=0&photo=4&field=0&pd=3&ds=2020.12.01&de=2020.12.31&cluster_rank=70&mynews=0&office_type=0&office_section_code=0&news_office_checked=&nso=so:r,p:from20201201to20201231,a:all&start=71\"]\n",
    "for li in list:\n",
    "    page = urlopen(li)\n",
    "    soup = BeautifulSoup(page, \"html.parser\")\n",
    "    title20 = soup.find(\"ul\", class_ = \"list_news\").find_all(\"a\", class_=\"news_tit\")\n",
    "    for i in range(int(len(title20))):\n",
    "        text = title20[i].get_text()\n",
    "        news20.append(text)\n",
    "\n",
    "        \n",
    "## 텍스트 마이닝\n",
    "\n",
    "okt = Okt()\n",
    "text20 = []\n",
    "for i in range(int(len(news20))):\n",
    "    noun = okt.nouns(news20[i])\n",
    "    for j in noun:\n",
    "        text20.append(j)\n",
    "text20\n",
    "\n",
    "# 불용어 처리\n",
    "\n",
    "#불용어 사전 만들기\n",
    "stop_words = [\"위\",\"제\",\"속\",\"및\",\"로\",\"간\", \"비즈\",\"첫\",\"날\",\"풀\",\"더\",\"명\",\"비\",\"등\",\"내\",\"개\",\"이후\",\"번가\",\"수\",\"위해\",\"진\"]\n",
    "# 밑의 글자 빈도수 list를 참고해서 불용어 넣어주기\n",
    "text20 = [each_word for each_word in text20 if each_word not in stop_words]\n",
    "\n",
    "# 빈도수 처리(워드 카운팅)\n",
    "ko = nltk.Text(text20, name=\"코로나2020뉴스\")\n",
    "\n",
    "data = ko.vocab().most_common(100)\n",
    "data"
   ]
  },
  {
   "cell_type": "code",
   "execution_count": 56,
   "id": "10aa60e0",
   "metadata": {
    "scrolled": true
   },
   "outputs": [
    {
     "data": {
      "text/plain": [
       "(-0.5, 399.5, 199.5, -0.5)"
      ]
     },
     "execution_count": 56,
     "metadata": {},
     "output_type": "execute_result"
    },
    {
     "data": {
      "image/png": "[encoded data removed]",
      "text/plain": [
       "<Figure size 720x720 with 1 Axes>"
      ]
     },
     "metadata": {
      "needs_background": "light"
     },
     "output_type": "display_data"
    }
   ],
   "source": [
    "## 워드 클라우드 출력\n",
    "import matplotlib.pyplot as plt\n",
    "wc=WordCloud(max_font_size=100, background_color = \"white\",max_words=70, \n",
    "             font_path=\"C:/Windows/Fonts/malgun.ttf\", colormap = 'twilight').generate_from_frequencies(dict(data))\n",
    "\n",
    "plt.figure(figsize=(10,10))\n",
    "plt.imshow(wc, interpolation = \"bilinear\")\n",
    "plt.axis(\"off\")"
   ]
  },
  {
   "cell_type": "markdown",
   "id": "f1d131ad",
   "metadata": {},
   "source": [
    "2020년에는 극복, 위기, 치료, 센터, 백신, 방역 등의 코로나로 인해 발생한 문제를 파악하고 코로나를 치료하는데 중점을 둔 뉴스가 많다"
   ]
  },
  {
   "cell_type": "markdown",
   "id": "1bc655c2",
   "metadata": {},
   "source": [
    "### (3) 2021년 4월 코로나19에 대한 뉴스 헤드라인"
   ]
  },
  {
   "cell_type": "code",
   "execution_count": 61,
   "id": "bae1df6f",
   "metadata": {
    "collapsed": true
   },
   "outputs": [
    {
     "data": {
      "text/plain": [
       "[('코로나', 37),\n",
       " ('기업', 15),\n",
       " ('힘', 10),\n",
       " ('지원', 7),\n",
       " ('시대', 6),\n",
       " ('치료', 6),\n",
       " ('백신', 5),\n",
       " ('센터', 5),\n",
       " ('한국', 5),\n",
       " ('발표', 4),\n",
       " ('축제', 4),\n",
       " ('청소년', 4),\n",
       " ('진행', 4),\n",
       " ('재단', 4),\n",
       " ('시민', 4),\n",
       " ('운영', 3),\n",
       " ('온라인', 3),\n",
       " ('국내', 3),\n",
       " ('활동', 3),\n",
       " ('환자', 3),\n",
       " ('투자', 3),\n",
       " ('나눔', 3),\n",
       " ('회복', 3),\n",
       " ('개발', 3),\n",
       " ('사업', 3),\n",
       " ('서울', 3),\n",
       " ('프로그램', 3),\n",
       " ('사회', 3),\n",
       " ('협약', 3),\n",
       " ('체결', 3),\n",
       " ('상생', 3),\n",
       " ('참여', 3),\n",
       " ('코리아', 2),\n",
       " ('변화', 2),\n",
       " ('바이오', 2),\n",
       " ('출시', 2),\n",
       " ('개최', 2),\n",
       " ('미래', 2),\n",
       " ('대상', 2),\n",
       " ('계획', 2),\n",
       " ('스타', 2),\n",
       " ('극복', 2),\n",
       " ('성황리', 2),\n",
       " ('글로벌', 2),\n",
       " ('브랜드', 2),\n",
       " ('솔루션', 2),\n",
       " ('출입', 2),\n",
       " ('국가', 2),\n",
       " ('산업대', 2),\n",
       " ('열매', 2),\n",
       " ('상공', 2),\n",
       " ('추진', 2),\n",
       " ('스토어', 2),\n",
       " ('복지', 2),\n",
       " ('일자리', 2),\n",
       " ('문화재단', 2),\n",
       " ('학생', 2),\n",
       " ('온', 2),\n",
       " ('오프라인', 2),\n",
       " ('최대', 2),\n",
       " ('실적', 2),\n",
       " ('세계', 2),\n",
       " ('규모', 2),\n",
       " ('지속', 2),\n",
       " ('경제', 2),\n",
       " ('업무', 2),\n",
       " ('공간', 2),\n",
       " ('활용', 2),\n",
       " ('혁신', 2),\n",
       " ('지능', 2),\n",
       " ('드론', 2),\n",
       " ('수소', 2),\n",
       " ('앞장', 2),\n",
       " ('행복', 2),\n",
       " ('그룹', 2),\n",
       " ('학습', 2),\n",
       " ('협력', 2),\n",
       " ('인테리어', 2),\n",
       " ('데이터', 2),\n",
       " ('방역', 2),\n",
       " ('포스트', 1),\n",
       " ('소비', 1),\n",
       " ('지형', 1),\n",
       " ('타코', 1),\n",
       " ('사이언스', 1),\n",
       " ('마우스', 1),\n",
       " ('모델', 1),\n",
       " ('노원구', 1),\n",
       " ('서비스', 1),\n",
       " ('공단', 1),\n",
       " ('접종', 1),\n",
       " ('총력', 1),\n",
       " ('취소', 1),\n",
       " ('곰취', 1),\n",
       " ('알릭스파트너스', 1),\n",
       " ('소비자', 1),\n",
       " ('구매', 1),\n",
       " ('우선', 1),\n",
       " ('순위', 1),\n",
       " ('항체', 1)]"
      ]
     },
     "execution_count": 61,
     "metadata": {},
     "output_type": "execute_result"
    }
   ],
   "source": [
    "## 크롤링\n",
    "\n",
    "news21 = []\n",
    "list = [\"https://search.naver.com/search.naver?where=news&query=%EC%BD%94%EB%A1%9C%EB%82%9819&sm=tab_opt&sort=0&photo=4&field=0&pd=3&ds=2021.04.01&de=2021.04.30&docid=&related=0&mynews=0&office_type=0&office_section_code=0&news_office_checked=&nso=so%3Ar%2Cp%3Afrom20210401to20210430&is_sug_officeid=0\",\n",
    "\"https://search.naver.com/search.naver?where=news&sm=tab_pge&query=%EC%BD%94%EB%A1%9C%EB%82%9819&sort=0&photo=4&field=0&pd=3&ds=2021.04.01&de=2021.04.30&cluster_rank=10&mynews=0&office_type=0&office_section_code=0&news_office_checked=&nso=so:r,p:from20210401to20210430,a:all&start=11\",\n",
    "\"https://search.naver.com/search.naver?where=news&sm=tab_pge&query=%EC%BD%94%EB%A1%9C%EB%82%9819&sort=0&photo=4&field=0&pd=3&ds=2021.04.01&de=2021.04.30&cluster_rank=20&mynews=0&office_type=0&office_section_code=0&news_office_checked=&nso=so:r,p:from20210401to20210430,a:all&start=21\",\n",
    "\"https://search.naver.com/search.naver?where=news&sm=tab_pge&query=%EC%BD%94%EB%A1%9C%EB%82%9819&sort=0&photo=4&field=0&pd=3&ds=2021.04.01&de=2021.04.30&cluster_rank=30&mynews=0&office_type=0&office_section_code=0&news_office_checked=&nso=so:r,p:from20210401to20210430,a:all&start=31\",\n",
    "\"https://search.naver.com/search.naver?where=news&sm=tab_pge&query=%EC%BD%94%EB%A1%9C%EB%82%9819&sort=0&photo=4&field=0&pd=3&ds=2021.04.01&de=2021.04.30&cluster_rank=40&mynews=0&office_type=0&office_section_code=0&news_office_checked=&nso=so:r,p:from20210401to20210430,a:all&start=41\",\n",
    "\"https://search.naver.com/search.naver?where=news&sm=tab_pge&query=%EC%BD%94%EB%A1%9C%EB%82%9819&sort=0&photo=4&field=0&pd=3&ds=2021.04.01&de=2021.04.30&cluster_rank=50&mynews=0&office_type=0&office_section_code=0&news_office_checked=&nso=so:r,p:from20210401to20210430,a:all&start=51\",\n",
    "\"https://search.naver.com/search.naver?where=news&sm=tab_pge&query=%EC%BD%94%EB%A1%9C%EB%82%9819&sort=0&photo=4&field=0&pd=3&ds=2021.04.01&de=2021.04.30&cluster_rank=61&mynews=0&office_type=0&office_section_code=0&news_office_checked=&nso=so:r,p:from20210401to20210430,a:all&start=61\",\n",
    "\"https://search.naver.com/search.naver?where=news&sm=tab_pge&query=%EC%BD%94%EB%A1%9C%EB%82%9819&sort=0&photo=4&field=0&pd=3&ds=2021.04.01&de=2021.04.30&cluster_rank=71&mynews=0&office_type=0&office_section_code=0&news_office_checked=&nso=so:r,p:from20210401to20210430,a:all&start=71\"]\n",
    "\n",
    "for li in list:\n",
    "    page = urlopen(li)\n",
    "    soup = BeautifulSoup(page, \"html.parser\")\n",
    "    title21 = soup.find(\"ul\", class_ = \"list_news\").find_all(\"a\", class_=\"news_tit\")\n",
    "    for i in range(int(len(title21))):\n",
    "        text = title21[i].get_text()\n",
    "        news21.append(text)\n",
    "    \n",
    "    \n",
    "## 텍스트 마이닝\n",
    "okt = Okt()\n",
    "text21 = []\n",
    "for i in range(int(len(news21))):\n",
    "    noun = okt.nouns(news21[i])\n",
    "    for j in noun:\n",
    "        text21.append(j)\n",
    "\n",
    "\n",
    "# 불용어 처리\n",
    "\n",
    "#불용어 사전 만들기\n",
    "stop_words = [\"위\",\"제\",\"대한\",\"명\",\"속\",\"명대\", \"확\", \"진자\", \"및\", \"위해\", \"길\",\"활\",\"얀\",\"청\",\"비대\",\"더\",\"인\",\"무\",\"닐슨\",\"닉\",\"성\",\"이후\",\"튜브\"]\n",
    "# 밑에서 data로 확인해 본 다음 처리\n",
    "\n",
    "text21 = [each_word for each_word in text21 if each_word not in stop_words]\n",
    "\n",
    "# 빈도수 처리(워드 카운팅)\n",
    "ko = nltk.Text(text21, name=\"코로나2021뉴스\")\n",
    "data = ko.vocab().most_common(100)\n",
    "data"
   ]
  },
  {
   "cell_type": "code",
   "execution_count": 62,
   "id": "d5e6c25e",
   "metadata": {
    "scrolled": true
   },
   "outputs": [
    {
     "data": {
      "text/plain": [
       "(-0.5, 399.5, 199.5, -0.5)"
      ]
     },
     "execution_count": 62,
     "metadata": {},
     "output_type": "execute_result"
    },
    {
     "data": {
      "image/png": "[encoded data removed]",
      "text/plain": [
       "<Figure size 720x720 with 1 Axes>"
      ]
     },
     "metadata": {
      "needs_background": "light"
     },
     "output_type": "display_data"
    }
   ],
   "source": [
    "### 워드 클라우드 출력\n",
    "import matplotlib.pyplot as plt\n",
    "wc=WordCloud(max_font_size=100, background_color = \"white\",max_words=70, \n",
    "             font_path=\"C:/Windows/Fonts/malgun.ttf\",  colormap = 'viridis').generate_from_frequencies(dict(data))\n",
    "\n",
    "\n",
    "plt.figure(figsize=(10,10))\n",
    "plt.imshow(wc, interpolation = \"bilinear\")\n",
    "plt.axis(\"off\")"
   ]
  },
  {
   "cell_type": "markdown",
   "id": "be4bcb15",
   "metadata": {},
   "source": [
    "2021년에도 여전히 치료, 백신과 같은 코로나를 이겨내는 것에 관심을 두고 있지만 2020년과 달리 기업이나 힘, 축제와 같은 조금 더 활동적인 것에 관련된 단어들이 많다."
   ]
  },
  {
   "cell_type": "markdown",
   "id": "783decf9",
   "metadata": {},
   "source": [
    "따라서 앞으로 사람들은 코로나에 상관 없이 영화관을 이용할 것이고 조금 더 활동적인 활동들을 하는 사람들도 증가할 것으로 보인다.\n",
    "\n",
    "하지만 그렇다고해서 OTT서비스 이용자들이 감소하고 있지는 않다. 그 이유는 무엇일까?"
   ]
  },
  {
   "cell_type": "markdown",
   "id": "80e88691",
   "metadata": {},
   "source": [
    "# 2. OTT서비스 이용자들의 OTT서비스 이용 특성"
   ]
  },
  {
   "cell_type": "markdown",
   "id": "3ff83ac1",
   "metadata": {},
   "source": [
    "## 1) OTT서비스를 이용하는 사람들은 OTT서비스를 어떻게 이용하고 있을까?"
   ]
  },
  {
   "cell_type": "markdown",
   "id": "6fa064bd",
   "metadata": {},
   "source": [
    "### (1) 설문조사 결과 : OTT 서비스 이용빈도"
   ]
  },
  {
   "cell_type": "code",
   "execution_count": 64,
   "id": "e82dd7a6",
   "metadata": {},
   "outputs": [
    {
     "data": {
      "image/png": "[encoded data removed]",
      "text/plain": [
       "<Figure size 720x576 with 1 Axes>"
      ]
     },
     "metadata": {
      "needs_background": "light"
     },
     "output_type": "display_data"
    }
   ],
   "source": [
    "frequency = pd.read_csv(\"data/OTT서비스_이용빈도.csv\", header=[0,1], index_col=[0,1])\n",
    "frequency19 = frequency.loc[\"전체\",\"2019\"].T.sort_values(by=\"소계\", ascending=False)\n",
    "frequency19.columns = [\"2019\"]\n",
    "frequency20 = frequency.loc[\"전체\",\"2020\"].T.sort_values(by=\"소계\", ascending=False)\n",
    "frequency20.columns = [\"2020\"]\n",
    "frequency21 = frequency.loc[\"전체\",\"2021\"].T.sort_values(by=\"소계\", ascending=False)\n",
    "frequency21.columns = [\"2021\"]\n",
    "\n",
    "frequency_total = pd.concat([frequency19, frequency20, frequency21], axis=1)\n",
    "frequency_total = frequency_total.drop(\"사례수 (명)\")\n",
    "frequency_total.index.name = \"사용빈도\"\n",
    "frequency_total = frequency_total.sort_values(by=\"2020\", ascending=False)\n",
    "frequency_total_graph = frequency_total.T\n",
    "\n",
    "ax = frequency_total_graph.plot(kind=\"barh\",\n",
    "                                color = [\"black\",\"dimgray\", \"gray\",\"darkgray\",\"silver\",\"lightgray\",\"gainsboro\",\"whitesmoke\"],\n",
    "                                figsize=(10,8), xlabel=\"년도\", title=\"년도별 OTT서비스 사용빈도 비율\")\n",
    "ax.invert_yaxis()"
   ]
  },
  {
   "cell_type": "markdown",
   "id": "0341702f",
   "metadata": {},
   "source": [
    "### (2) 설문조사 결과 : OTT서비스 한 번 이용시 얼마나 오래 이용하는가?"
   ]
  },
  {
   "cell_type": "code",
   "execution_count": 70,
   "id": "714ad199",
   "metadata": {},
   "outputs": [
    {
     "data": {
      "image/png": "[encoded data removed]",
      "text/plain": [
       "<Figure size 720x576 with 1 Axes>"
      ]
     },
     "metadata": {
      "needs_background": "light"
     },
     "output_type": "display_data"
    }
   ],
   "source": [
    "time = pd.read_csv(\"data/OTT서비스_이용시간.csv\", header=[0,1], index_col=[0,1])\n",
    "\n",
    "time19 = time.loc[\"전체\",\"2019\"].T.sort_values(by=\"소계\", ascending=False)\n",
    "time19.columns = [\"2019\"]\n",
    "time20 = time.loc[\"전체\",\"2020\"].T.sort_values(by=\"소계\", ascending=False)\n",
    "time20.columns = [\"2020\"]\n",
    "time_total = pd.concat([time19, time20], axis=1)\n",
    "time_total = time_total.drop(\"사례수 (명)\")\n",
    "time_total.index.name = \"사용빈도\"\n",
    "time_total_graph = time_total.T\n",
    "\n",
    "ax = time_total_graph.plot(kind=\"barh\",\n",
    "                           color = [\"black\",\"dimgray\", \"gray\",\"darkgray\",\"silver\",\"gainsboro\"],\n",
    "                           figsize=(10,8), xlabel=\"년도\", title=\"년도별 OTT서비스 이용시 이용지속시간\")\n",
    "ax.invert_yaxis()"
   ]
  },
  {
   "cell_type": "markdown",
   "id": "bd5d852a",
   "metadata": {},
   "source": [
    "### (3) 설문조사 결과 : OTT서비스를 이용하는 상황"
   ]
  },
  {
   "cell_type": "code",
   "execution_count": 72,
   "id": "aa6f5053",
   "metadata": {
    "scrolled": true
   },
   "outputs": [
    {
     "data": {
      "image/png": "[encoded data removed]",
      "text/plain": [
       "<Figure size 576x432 with 1 Axes>"
      ]
     },
     "metadata": {
      "needs_background": "light"
     },
     "output_type": "display_data"
    }
   ],
   "source": [
    "when = pd.read_excel(\"data/OTT서비스시청상황.xlsx\", header=[0,1], index_col=[0])\n",
    "\n",
    "when_graph = when.T\n",
    "when_graph = when_graph[[\"전체\"]]\n",
    "when_graph.index.names = [\"연도\", \"상황\"]\n",
    "when_graph = when_graph.unstack(\"연도\")\n",
    "when_graph = when_graph.droplevel(level=0, axis=1)\n",
    "when_graph = when_graph.sort_values([\"2016\",\"2017\"], ascending=False)\n",
    "\n",
    "ax = when_graph.plot(kind=\"barh\", color = [\"dimgray\", \"gray\",\"darkgray\",\"silver\",\"gainsboro\"],\n",
    "                     figsize=(8,6), title=\"연도별 OTT서비스 시청상황 비율\")\n",
    "ax.invert_yaxis()"
   ]
  },
  {
   "cell_type": "markdown",
   "id": "3374ddb5",
   "metadata": {},
   "source": [
    "OTT서비스는 하루에 여러번 1시간 미만의 짧은 시간동안 이용하는 경우가 많다. 그 이유는 이동 중에 이용하거나 TV가 없는 장소에서 사용하기 때문이라고 볼 수 있다. 즉, OTT서비스는 영상을 짧게 소비하는데 많이 사용된다. "
   ]
  },
  {
   "cell_type": "markdown",
   "id": "5abdcd92",
   "metadata": {},
   "source": [
    "## 2) OTT 서비스를 왜 이용하지 않을까?"
   ]
  },
  {
   "cell_type": "markdown",
   "id": "845403e3",
   "metadata": {},
   "source": [
    "### (1) 해외 OTT서비스 비가입 이유"
   ]
  },
  {
   "cell_type": "code",
   "execution_count": 44,
   "id": "7bb6b811",
   "metadata": {},
   "outputs": [
    {
     "data": {
      "text/html": [
       "<div>\n",
       "<style scoped>\n",
       "    .dataframe tbody tr th:only-of-type {\n",
       "        vertical-align: middle;\n",
       "    }\n",
       "\n",
       "    .dataframe tbody tr th {\n",
       "        vertical-align: top;\n",
       "    }\n",
       "\n",
       "    .dataframe thead th {\n",
       "        text-align: right;\n",
       "    }\n",
       "</style>\n",
       "<table border=\"1\" class=\"dataframe\">\n",
       "  <thead>\n",
       "    <tr style=\"text-align: right;\">\n",
       "      <th></th>\n",
       "      <th>영국</th>\n",
       "      <th>호주</th>\n",
       "      <th>러시아</th>\n",
       "      <th>브라질</th>\n",
       "      <th>UAE</th>\n",
       "    </tr>\n",
       "  </thead>\n",
       "  <tbody>\n",
       "    <tr>\n",
       "      <th>사례수(명)</th>\n",
       "      <td>66.0</td>\n",
       "      <td>118.0</td>\n",
       "      <td>59.0</td>\n",
       "      <td>56.0</td>\n",
       "      <td>55.0</td>\n",
       "    </tr>\n",
       "    <tr>\n",
       "      <th>이용요금이비싸서(비율)</th>\n",
       "      <td>30.3</td>\n",
       "      <td>24.6</td>\n",
       "      <td>28.8</td>\n",
       "      <td>25.0</td>\n",
       "      <td>14.5</td>\n",
       "    </tr>\n",
       "    <tr>\n",
       "      <th>지상파TV나유료방송으로도충분해서(비율)</th>\n",
       "      <td>28.8</td>\n",
       "      <td>29.7</td>\n",
       "      <td>32.2</td>\n",
       "      <td>19.6</td>\n",
       "      <td>16.4</td>\n",
       "    </tr>\n",
       "    <tr>\n",
       "      <th>이용방법을잘몰라서(비율)</th>\n",
       "      <td>9.1</td>\n",
       "      <td>7.6</td>\n",
       "      <td>6.8</td>\n",
       "      <td>10.7</td>\n",
       "      <td>NaN</td>\n",
       "    </tr>\n",
       "    <tr>\n",
       "      <th>특별히볼만한재미있고좋은콘텐츠가없어서(비율)</th>\n",
       "      <td>6.1</td>\n",
       "      <td>NaN</td>\n",
       "      <td>8.5</td>\n",
       "      <td>NaN</td>\n",
       "      <td>9.1</td>\n",
       "    </tr>\n",
       "    <tr>\n",
       "      <th>외국서비스를이용하는것을좋아하지않아서(비율)</th>\n",
       "      <td>6.1</td>\n",
       "      <td>7.6</td>\n",
       "      <td>NaN</td>\n",
       "      <td>NaN</td>\n",
       "      <td>12.7</td>\n",
       "    </tr>\n",
       "    <tr>\n",
       "      <th>가입방법을잘몰라서(비율)</th>\n",
       "      <td>NaN</td>\n",
       "      <td>5.1</td>\n",
       "      <td>5.1</td>\n",
       "      <td>14.3</td>\n",
       "      <td>12.7</td>\n",
       "    </tr>\n",
       "    <tr>\n",
       "      <th>온라인동영상서비스(OTT)가만족스럽지않아서(비율)</th>\n",
       "      <td>NaN</td>\n",
       "      <td>NaN</td>\n",
       "      <td>NaN</td>\n",
       "      <td>5.4</td>\n",
       "      <td>NaN</td>\n",
       "    </tr>\n",
       "  </tbody>\n",
       "</table>\n",
       "</div>"
      ],
      "text/plain": [
       "                               영국     호주   러시아   브라질   UAE\n",
       "사례수(명)                       66.0  118.0  59.0  56.0  55.0\n",
       "이용요금이비싸서(비율)                 30.3   24.6  28.8  25.0  14.5\n",
       "지상파TV나유료방송으로도충분해서(비율)        28.8   29.7  32.2  19.6  16.4\n",
       "이용방법을잘몰라서(비율)                 9.1    7.6   6.8  10.7   NaN\n",
       "특별히볼만한재미있고좋은콘텐츠가없어서(비율)       6.1    NaN   8.5   NaN   9.1\n",
       "외국서비스를이용하는것을좋아하지않아서(비율)       6.1    7.6   NaN   NaN  12.7\n",
       "가입방법을잘몰라서(비율)                 NaN    5.1   5.1  14.3  12.7\n",
       "온라인동영상서비스(OTT)가만족스럽지않아서(비율)   NaN    NaN   NaN   5.4   NaN"
      ]
     },
     "execution_count": 44,
     "metadata": {},
     "output_type": "execute_result"
    }
   ],
   "source": [
    "reason = pd.read_csv(\"data/해외유료OTT서비스비가입이유.csv\", encoding=\"euc-kr\", index_col=[0,1,2,3,4])\n",
    "reason1 = reason.iloc[0:5].droplevel([\"연번\",\"조사연도\",\"분류\", \"구분\"]).T\n",
    "\n",
    "England = reason1.sort_values(\"영국\", ascending=False)[\"영국\"].head(6)\n",
    "Austrailia = reason1.sort_values(\"호주\", ascending=False)[\"호주\"].head(6)\n",
    "Russia = reason1.sort_values(\"러시아\", ascending=False)[\"러시아\"].head(6)\n",
    "Brazil = reason1.sort_values(\"브라질\", ascending=False)[\"브라질\"].head(6)\n",
    "UAE = reason1.sort_values(\"UAE\", ascending=False)[\"UAE\"].head(6)\n",
    "\n",
    "list1 = [England, Austrailia, Russia, Brazil, UAE]\n",
    "\n",
    "reasontotal = pd.concat(list1, axis=1)\n",
    "reasontotal"
   ]
  },
  {
   "cell_type": "code",
   "execution_count": 47,
   "id": "6646700a",
   "metadata": {
    "scrolled": false
   },
   "outputs": [
    {
     "data": {
      "image/png": "[encoded data removed]",
      "text/plain": [
       "<Figure size 720x576 with 1 Axes>"
      ]
     },
     "metadata": {
      "needs_background": "light"
     },
     "output_type": "display_data"
    }
   ],
   "source": [
    "# 위에서 사용한 reasontotal 계속 이용\n",
    "\n",
    "reason_graph = reasontotal.drop(index = \"사례수(명)\" )\n",
    "reason_graph = reason_graph[[\"영국\",\"러시아\",\"브라질\",\"호주\",\"UAE\"]]\n",
    "ax = reason_graph.plot(kind = \"barh\", color = {\"영국\":\"black\",\"러시아\":\"silver\",\"브라질\":\"gray\",\"호주\":\"silver\",\"UAE\":\"silver\"},\n",
    "                       figsize = (10,8), xlabel=\"이유\", title=\"나라별 OTT서비스 비가입 이유별 비율\")\n",
    "ax.invert_yaxis()"
   ]
  },
  {
   "cell_type": "markdown",
   "id": "dab7bc75",
   "metadata": {},
   "source": [
    "해외 사례이긴 하지만 사람들은 요금에 가장 큰 비중을 두는 것을 알 수 있다.\n",
    "\n",
    "- 영국과 브라질에서는 이용요금이 비싸서라는 이유가 가장 높음 \n",
    "\n",
    "- 다른 나라의 경우 지상파TV나 유료방송으로도 충분해서라는 비율이 가장 높고 그 다음이 이용요금이 비싸서라는 이유지만 사실 두 이유의 차이는 크지 않다고 생각된다.\n",
    "(두 이유 모두 추가로 돈을 지불하면서까지 OTT서비스를 이용할 필요성을 못 느끼는 것이라고도 생각할 수 있기 때문에)"
   ]
  },
  {
   "cell_type": "markdown",
   "id": "83558b49",
   "metadata": {},
   "source": [
    "### (1)-1 영화관객수도 가격에 영향을 받을까?\n",
    "\n",
    "- 티켓 가격이 달라진 때의 관객수를 확인해보자"
   ]
  },
  {
   "cell_type": "markdown",
   "id": "43ec37d9",
   "metadata": {},
   "source": [
    "티켓 가격 변동 내용 참고\n",
    "\n",
    "- https://post.naver.com/viewer/postView.naver?volumeNo=31753842&memberNo=31724756\n",
    "\n",
    "2008.5월 8000원\n",
    "\n",
    "2009.7월 9000원\n",
    "\n",
    "2013.2월 10000원\n",
    "\n",
    "2014.2월 10000원(2D, 3D차등제 실시)\n",
    "\n",
    "2016.4월 11000원(프라임존)\n",
    "\n",
    "2018.4월 12000원(프라임존)\n",
    "\n",
    "2020.10월 13000원(좌석 차등제 폐지)\n",
    "\n",
    "2021.3월 14000원\n"
   ]
  },
  {
   "cell_type": "code",
   "execution_count": 65,
   "id": "46d99ff1",
   "metadata": {},
   "outputs": [],
   "source": [
    "# 티켓 가격이 변동한 때를 중심으로 앞뒤 1년씩 관객수 확인\n",
    "\n",
    "movie08 = pd.read_excel(\"data/2008년월별영화관객수.xlsx\", skiprows = 4, header=[0,1])\n",
    "movie08 = movie08.iloc[:, [0,-1]].droplevel(level=1, axis=1)\n",
    "movie08.columns = [\"년월\",\"관람객수\"]\n",
    "movie08 = movie08.iloc[0:12]\n",
    "movie08[\"년월\"]=pd.to_datetime(movie08[\"년월\"])\n",
    "movie08[\"년월\"] = movie08[\"년월\"].dt.strftime(\"%Y-%m\")\n",
    "\n",
    "movie09 = pd.read_excel(\"data/2009년월별영화관객수.xlsx\", skiprows = 4, header=[0,1])\n",
    "movie09 = movie09.iloc[:, [0,-1]].droplevel(level=1, axis=1)\n",
    "movie09.columns = [\"년월\",\"관람객수\"]\n",
    "movie09 = movie09.iloc[0:12]\n",
    "movie09[\"년월\"]=pd.to_datetime(movie09[\"년월\"])\n",
    "movie09[\"년월\"] = movie09[\"년월\"].dt.strftime(\"%Y-%m\")\n",
    "\n",
    "movie12 = pd.read_excel(\"data/2012년월별영화관객수.xlsx\", skiprows = 4, header=[0,1])\n",
    "movie12 = movie12.iloc[:, [0,-1]].droplevel(level=1, axis=1)\n",
    "movie12.columns = [\"년월\",\"관람객수\"]\n",
    "movie12 = movie12.iloc[0:12]\n",
    "movie12[\"년월\"]=pd.to_datetime(movie12[\"년월\"])\n",
    "movie12[\"년월\"] = movie12[\"년월\"].dt.strftime(\"%Y-%m\")\n",
    "\n",
    "movie13 = pd.read_excel(\"data/2013년월별영화관객수.xlsx\", skiprows = 4, header=[0,1])\n",
    "movie13 = movie13.iloc[:, [0,-1]].droplevel(level=1, axis=1)\n",
    "movie13.columns = [\"년월\",\"관람객수\"]\n",
    "movie13 = movie13.iloc[0:12]\n",
    "movie13[\"년월\"]=pd.to_datetime(movie13[\"년월\"])\n",
    "movie13[\"년월\"] = movie13[\"년월\"].dt.strftime(\"%Y-%m\")\n",
    "\n",
    "movie14 = pd.read_excel(\"data/2014년월별영화관객수.xlsx\", skiprows = 4, header=[0,1])\n",
    "movie14 = movie14.iloc[:, [0,-1]].droplevel(level=1, axis=1)\n",
    "movie14.columns = [\"년월\",\"관람객수\"]\n",
    "movie14 = movie14.iloc[0:12]\n",
    "movie14[\"년월\"]=pd.to_datetime(movie14[\"년월\"])\n",
    "movie14[\"년월\"] = movie14[\"년월\"].dt.strftime(\"%Y-%m\")\n",
    "\n",
    "movie15 = pd.read_excel(\"data/2015년월별영화관객수.xlsx\", skiprows = 4, header=[0,1])\n",
    "movie15 = movie15.iloc[:, [0,-1]].droplevel(level=1, axis=1)\n",
    "movie15.columns = [\"년월\",\"관람객수\"]\n",
    "movie15 = movie15.iloc[0:12]\n",
    "movie15[\"년월\"]=pd.to_datetime(movie15[\"년월\"])\n",
    "movie15[\"년월\"] = movie15[\"년월\"].dt.strftime(\"%Y-%m\")\n",
    "\n",
    "movie16 = pd.read_excel(\"data/2016년월별영화관객수.xlsx\", skiprows = 4, header=[0,1])\n",
    "movie16 = movie16.iloc[:, [0,-1]].droplevel(level=1, axis=1)\n",
    "movie16.columns = [\"년월\",\"관람객수\"]\n",
    "movie16 = movie16.iloc[0:12]\n",
    "movie16[\"년월\"]=pd.to_datetime(movie16[\"년월\"])\n",
    "movie16[\"년월\"] = movie16[\"년월\"].dt.strftime(\"%Y-%m\")\n",
    "\n",
    "movie17 = pd.read_excel(\"data/2017년월별영화관객수.xlsx\", skiprows = 4, header=[0,1])\n",
    "movie17 = movie17.iloc[:, [0,-1]].droplevel(level=1, axis=1)\n",
    "movie17.columns = [\"년월\",\"관람객수\"]\n",
    "movie17 = movie17.iloc[0:12]\n",
    "movie17[\"년월\"]=pd.to_datetime(movie17[\"년월\"])\n",
    "movie17[\"년월\"] = movie17[\"년월\"].dt.strftime(\"%Y-%m\")\n",
    "\n",
    "movie18 = pd.read_excel(\"data/2018년월별영화관객수.xlsx\", skiprows = 4, header=[0,1])\n",
    "movie18 = movie18.iloc[:, [0,-1]].droplevel(level=1, axis=1)\n",
    "movie18.columns = [\"년월\",\"관람객수\"]\n",
    "movie18 = movie18.iloc[0:12]\n",
    "movie18[\"년월\"]=pd.to_datetime(movie18[\"년월\"])\n",
    "movie18[\"년월\"] = movie18[\"년월\"].dt.strftime(\"%Y-%m\")\n",
    "\n",
    "movie19 = pd.read_excel(\"data/2019영화관람객수.xlsx\", skiprows = 4, header=[0,1])\n",
    "movie19 = movie19.iloc[:, [0,-1]].droplevel(level=1, axis=1)\n",
    "movie19.columns = [\"년월\",\"관람객수\"]\n",
    "movie19 = movie19.iloc[0:12]\n",
    "movie19[\"년월\"]=pd.to_datetime(movie19[\"년월\"])\n",
    "movie19[\"년월\"] = movie19[\"년월\"].dt.strftime(\"%Y-%m\")\n",
    "\n",
    "movie20 = pd.read_excel(\"data/2020영화관람객수.xlsx\", skiprows = 4, header=[0,1])\n",
    "movie20 = movie20.iloc[:, [0,-1]].droplevel(level=1, axis=1)\n",
    "movie20.columns = [\"년월\",\"관람객수\"]\n",
    "movie20 = movie20.iloc[0:12]\n",
    "movie20[\"년월\"]=pd.to_datetime(movie20[\"년월\"])\n",
    "movie20[\"년월\"] = movie20[\"년월\"].dt.strftime(\"%Y-%m\")\n",
    "\n",
    "movie21 = pd.read_excel(\"data/2021영화관람객수.xlsx\", skiprows = 4, header=[0,1])\n",
    "movie21 = movie21.iloc[:, [0,-1]].droplevel(level=1, axis=1)\n",
    "movie21.columns = [\"년월\",\"관람객수\"]\n",
    "movie21 = movie21.iloc[0:12]\n",
    "movie21[\"년월\"]=pd.to_datetime(movie21[\"년월\"])\n",
    "movie21[\"년월\"] = movie21[\"년월\"].dt.strftime(\"%Y-%m\")\n"
   ]
  },
  {
   "cell_type": "code",
   "execution_count": 73,
   "id": "c906a68c",
   "metadata": {},
   "outputs": [
    {
     "data": {
      "text/plain": [
       "[4, 18, 37, 49, 75, 99, 129, 134]"
      ]
     },
     "execution_count": 73,
     "metadata": {},
     "output_type": "execute_result"
    }
   ],
   "source": [
    "movie_ticket = pd.concat([movie08, movie09, movie12, movie13, movie14, movie15, movie16, movie17, movie18, movie19, movie20, movie21])\n",
    "movie_ticket = movie_ticket.reset_index(drop=True)\n",
    "movie_ticket.to_csv(\"data/월별관람객수08-21.csv\")\n",
    "\n",
    "ticket_index = movie_ticket[movie_ticket[\"년월\"].isin([\"2008-05\",\"2009-07\",\"2013-02\",\"2014-02\",\"2016-04\",\"2018-04\",\"2020-10\",\"2021-03\"])].index.values\n",
    "ticket_index = list(ticket_index)\n",
    "ticket_index"
   ]
  },
  {
   "cell_type": "code",
   "execution_count": 74,
   "id": "b42ee0bb",
   "metadata": {
    "collapsed": true
   },
   "outputs": [
    {
     "data": {
      "text/plain": [
       "Text(135, 200, '14000원')"
      ]
     },
     "execution_count": 74,
     "metadata": {},
     "output_type": "execute_result"
    },
    {
     "data": {
      "image/png": "[encoded data removed]",
      "text/plain": [
       "<Figure size 1800x432 with 1 Axes>"
      ]
     },
     "metadata": {
      "needs_background": "light"
     },
     "output_type": "display_data"
    }
   ],
   "source": [
    "movie_ticket.plot(color = \"gray\", figsize = (25,6))\n",
    "plt.axvline(x=4, color = \"silver\", linestyle = \"--\")\n",
    "plt.axvline(x=18, color = \"silver\", linestyle = \"--\")\n",
    "plt.axvline(x=37, color = \"black\", linestyle = \"--\")\n",
    "plt.axvline(x=49, color = \"black\", linestyle = \"--\") # 시간대를 더 나눠서 프라임 시간대 가격을 올림\n",
    "#plt.axvline(x=75, color = \"r\") >> 가격이 오르지는 않고 가격 체계가 바뀜\n",
    "plt.axvline(x=99, color = \"silver\", linestyle = \"--\")\n",
    "plt.axvline(x=129, color = \"black\", linestyle = \"--\")\n",
    "plt.axvline(x=134, color = \"black\", linestyle = \"--\")\n",
    "\n",
    "plt.text(-1, 200, \"7000원\")\n",
    "plt.text(5, 200, \"8000원\")\n",
    "plt.text(19,200, \"9000원\")\n",
    "plt.text(38, 200, \"10000원\")\n",
    "plt.text(50, 0, \"10000원\")\n",
    "plt.text(100,200, [\"11000원\",\"어벤져스:인피니티워개봉\"])\n",
    "plt.text(129.5, 200, \"13000원\")\n",
    "plt.text(135, 200, \"14000원\")"
   ]
  },
  {
   "cell_type": "markdown",
   "id": "65040c97",
   "metadata": {},
   "source": [
    "가격이 10000원이 넘어간 이후 가격이 오를 때마다 한달간은 관객수가 떨어짐\n",
    "\n",
    "2018년 4월에는 가격이 떨어짐에도 불구하고 오른 관객수가 증가했는데\n",
    "    이때는 '어벤져스:인피니티워'가 개봉한 달로 특수 상황이라고 볼 수 있다."
   ]
  },
  {
   "cell_type": "markdown",
   "id": "eaa390af",
   "metadata": {},
   "source": [
    "# 결론\n",
    "\n",
    " 코로나가 발생하면서 코로나가 발생한 2020년은 OTT서비스 이용자가 증가하였고 영화관 이용 관객은 줄어들었었다.하지만 2021년에 접어들면서 사람들은 조금씩 코로나에 익숙해지기 시작했고 코로나에 관계없이 사람들은 영화관을 이용하기 시작하였다. \n",
    "\n",
    " 그러한 상황은 그나마 코로나 확진자 수가 비슷한 2020년 12월과 2021년 4월의 관객수 차이와 뉴스 헤드라인의 주요 단어들을 비교함으로 확인할 수 있다. 코로나 확진자 수가 어느정도 비슷하지만(1.4배) 2021년 4월의 영화관이용자 수는 2020년 12월에 비해 거의 2배가 차이난다. 그 때의 뉴스 헤드라인 또한 코로나자체에 집중한 2020년12월에 비해 2021년 4월은 조금 더 활기찬 축제 등에 관심을 갖기 시작했다.\n",
    "\n",
    " 따라서 영화관 관객 수도 코로나 이전을 극복할 것이고 다른 활동도 많이 이루어질 것이라고 생각된다. 하지만 그렇다고 해서 OTT서비스 이용자가 감소하지는 않는다. \n",
    "\n",
    " 그 이유는 OTT서비스를 이용하는 사람들이 언제 어떻게 OTT서비스를 이용하는지에 대해 설문조사한 것으로 확인할 수 있었다. 사람들은 OTT서비스를 주로 1시간 미만으로 하루에 여러 번 이용하는데 TV가 없는 곳에서 이동시간에 주로 이용하기 때문이다. 그렇기 때문에 OTT서비스는 TV와 같은 실시간 방송과 다른 OTT서비스만의 장점이 있기 때문에 이러한 부분을 살리는 것이 OTT서비스 이용의 발전에 도움이 될 것 같다.(적당한 길이의 매체 만들기)\n",
    "\n",
    " 반면에 OTT서비스 비가입이유로는 해외 자료이긴 하지만 이용요금이 비싸기 때문이 가장 높았다. 사람들이 가격에 민감하다고 생각할 수 있는데, 우리나라도 마찬가지라는 것은 OTT서비스의 가격 상승으로 이용자가 일부 줄었다는 뉴스를 통해서도 알 수 있다. 추가로 영화관 티켓가격의 상승 시점과 영화관 이용 관객수를 살펴보면 10,000원 이상에서는 가격이 오를 때마다 한 달은 영화관 이용 관객수가 줄어드는 것을 확인할 수 있었다. 이를 통해서 사람들이 가격에 민감하다는 것을 알 수 있다. 따라서 OTT서비스에서도 가격 책정시 이 부분을 고려해서 신중하게 이루어져야 한다고 생각된다.\n",
    "\n",
    "#### 만원 이상에서는 사람들이 많은 부담을 가지므로 가격을 올리는데 신중을 기하고 만원 이상에서 가격을 올릴 때에는 다른 서비스와 합치는 등의 사람들을 유혹할 만한 서비스 제공(TV나 영화보다 확실히 장점이 있는)이나 이벤트가 필요하다고 생각된다. 긴 길이의 영상보다 짧은 길이의 영상을 여러 개 제공하는 것이 더 OTT서비스 이용에 효과적일 것이라고 생각된다."
   ]
  },
  {
   "cell_type": "code",
   "execution_count": null,
   "id": "19965390",
   "metadata": {},
   "outputs": [],
   "source": []
  }
 ],
 "metadata": {
  "kernelspec": {
   "display_name": "Python 3 (ipykernel)",
   "language": "python",
   "name": "python3"
  },
  "language_info": {
   "codemirror_mode": {
    "name": "ipython",
    "version": 3
   },
   "file_extension": ".py",
   "mimetype": "text/x-python",
   "name": "python",
   "nbconvert_exporter": "python",
   "pygments_lexer": "ipython3",
   "version": "3.9.12"
  }
 },
 "nbformat": 4,
 "nbformat_minor": 5
}
